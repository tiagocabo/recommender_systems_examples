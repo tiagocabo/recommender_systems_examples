{
 "cells": [
  {
   "cell_type": "markdown",
   "metadata": {},
   "source": [
    "# Recommender systems"
   ]
  },
  {
   "cell_type": "markdown",
   "metadata": {},
   "source": [
    "Content based on the following lectures https://www.youtube.com/watch?v=1JRrCEgiyHM&t=767s"
   ]
  },
  {
   "cell_type": "markdown",
   "metadata": {},
   "source": [
    "On offline sellers we are faced with scarce commodity. This is related with the stock costs. \n",
    "This means that products with local popularity don't have presence in the most stores. This is the long tail curve.\n",
    "![logtail_curve](images/long_tail_curve.png)"
   ]
  },
  {
   "cell_type": "markdown",
   "metadata": {},
   "source": [
    "# Types of recommendations\n",
    "- editorial and hand curated (biase by the people that do the recommendentaion based on his knowledge)\n",
    "- simple aggregates i.e top 10 sellers, recent upload\n",
    "- tailored approach: based on item, based on customers info or both\n"
   ]
  },
  {
   "cell_type": "markdown",
   "metadata": {},
   "source": [
    "# key problems\n",
    " ## Gathering ratings\n",
    " - explicit ratings i.e much more easy but dificult to scale\n",
    " \n",
    " - implicint rations i.e learn rating based on user actions based on clicks. The downside is to learn low rating because people wont click on that. \n",
    " \n",
    "## Extrapolate unknown ratings from the known ones\n",
    "- sparse matrix U because most people do not rate most items\n",
    "- cold start problem i.e. when a new product or customer is add into the loop\n",
    "\n",
    "## Evaluating extrapolation methods i.e. How should we measure the success/performance of recommendation methods\n",
    "- content-based \n",
    "- collaborative\n",
    "- latent factor based"
   ]
  },
  {
   "cell_type": "markdown",
   "metadata": {},
   "source": [
    "------------------------------------------------------------------------------------------------------"
   ]
  },
  {
   "cell_type": "markdown",
   "metadata": {},
   "source": [
    "# Content based recommendation engines"
   ]
  },
  {
   "cell_type": "markdown",
   "metadata": {},
   "source": [
    "The main idea of this approach is to recommend items to customer x, based on privious items rated by x. \n",
    "An example of this is to select movies based on genre or main actor. "
   ]
  },
  {
   "cell_type": "markdown",
   "metadata": {},
   "source": [
    "# Plan of action\n",
    "- extract features for each item\n",
    "- match those with the user - build user profile\n",
    "- then recommend the items that match the user profile"
   ]
  },
  {
   "cell_type": "markdown",
   "metadata": {},
   "source": [
    "## Pros:\n",
    " - No need data on others users\n",
    " - Able to recommend users with unique tates\n",
    " - no first rater problem\n",
    " - explainations on recommended items\n",
    " \n",
    " ## Cons:\n",
    " - need to generate accurate features for the item i.e items, movies\n",
    " - overspecialization due to people multiple interests\n",
    " - How to build a profile for a new user? most recommendation engines use an average profile to start. Personal take on this: Companies on this example can buy data from other companies like facebook."
   ]
  },
  {
   "cell_type": "markdown",
   "metadata": {},
   "source": [
    "# Example\n",
    "based on this dataset https://www.kaggle.com/zygmunt/goodbooks-10k"
   ]
  },
  {
   "cell_type": "code",
   "execution_count": 44,
   "metadata": {},
   "outputs": [],
   "source": [
    "# packages \n",
    "import numpy as np\n",
    "import pandas as pd\n",
    "import os\n",
    "import random\n",
    "import matplotlib.pyplot as plt\n",
    "from sklearn.feature_extraction.text import TfidfVectorizer\n",
    "from sklearn.metrics.pairwise import linear_kernel"
   ]
  },
  {
   "cell_type": "code",
   "execution_count": 45,
   "metadata": {},
   "outputs": [],
   "source": [
    "# check available documents in the folder"
   ]
  },
  {
   "cell_type": "code",
   "execution_count": 46,
   "metadata": {},
   "outputs": [
    {
     "name": "stdout",
     "output_type": "stream",
     "text": [
      "['book_tags.csv', 'books.csv', 'to_read.csv', 'tags.csv', 'ratings.csv', 'sample_book.xml']\n"
     ]
    }
   ],
   "source": [
    "available_files = os.listdir('data/goodbooks')\n",
    "print(available_files)\n",
    "\n",
    "# book_tags = tags count for each book\n",
    "# book.csv info + ratings count\n",
    "# books marked as to read by the users\n",
    "# match tagid with tag name\n",
    "# ratings by user and by book\n"
   ]
  },
  {
   "cell_type": "code",
   "execution_count": 47,
   "metadata": {},
   "outputs": [
    {
     "data": {
      "text/html": [
       "<div>\n",
       "<style scoped>\n",
       "    .dataframe tbody tr th:only-of-type {\n",
       "        vertical-align: middle;\n",
       "    }\n",
       "\n",
       "    .dataframe tbody tr th {\n",
       "        vertical-align: top;\n",
       "    }\n",
       "\n",
       "    .dataframe thead th {\n",
       "        text-align: right;\n",
       "    }\n",
       "</style>\n",
       "<table border=\"1\" class=\"dataframe\">\n",
       "  <thead>\n",
       "    <tr style=\"text-align: right;\">\n",
       "      <th></th>\n",
       "      <th>id</th>\n",
       "      <th>book_id</th>\n",
       "      <th>best_book_id</th>\n",
       "      <th>work_id</th>\n",
       "      <th>books_count</th>\n",
       "      <th>isbn</th>\n",
       "      <th>isbn13</th>\n",
       "      <th>authors</th>\n",
       "      <th>original_publication_year</th>\n",
       "      <th>original_title</th>\n",
       "      <th>...</th>\n",
       "      <th>ratings_count</th>\n",
       "      <th>work_ratings_count</th>\n",
       "      <th>work_text_reviews_count</th>\n",
       "      <th>ratings_1</th>\n",
       "      <th>ratings_2</th>\n",
       "      <th>ratings_3</th>\n",
       "      <th>ratings_4</th>\n",
       "      <th>ratings_5</th>\n",
       "      <th>image_url</th>\n",
       "      <th>small_image_url</th>\n",
       "    </tr>\n",
       "  </thead>\n",
       "  <tbody>\n",
       "    <tr>\n",
       "      <td>0</td>\n",
       "      <td>1</td>\n",
       "      <td>2767052</td>\n",
       "      <td>2767052</td>\n",
       "      <td>2792775</td>\n",
       "      <td>272</td>\n",
       "      <td>439023483</td>\n",
       "      <td>9.780439e+12</td>\n",
       "      <td>Suzanne Collins</td>\n",
       "      <td>2008.0</td>\n",
       "      <td>The Hunger Games</td>\n",
       "      <td>...</td>\n",
       "      <td>4780653</td>\n",
       "      <td>4942365</td>\n",
       "      <td>155254</td>\n",
       "      <td>66715</td>\n",
       "      <td>127936</td>\n",
       "      <td>560092</td>\n",
       "      <td>1481305</td>\n",
       "      <td>2706317</td>\n",
       "      <td>https://images.gr-assets.com/books/1447303603m...</td>\n",
       "      <td>https://images.gr-assets.com/books/1447303603s...</td>\n",
       "    </tr>\n",
       "    <tr>\n",
       "      <td>1</td>\n",
       "      <td>2</td>\n",
       "      <td>3</td>\n",
       "      <td>3</td>\n",
       "      <td>4640799</td>\n",
       "      <td>491</td>\n",
       "      <td>439554934</td>\n",
       "      <td>9.780440e+12</td>\n",
       "      <td>J.K. Rowling, Mary GrandPrÃ©</td>\n",
       "      <td>1997.0</td>\n",
       "      <td>Harry Potter and the Philosopher's Stone</td>\n",
       "      <td>...</td>\n",
       "      <td>4602479</td>\n",
       "      <td>4800065</td>\n",
       "      <td>75867</td>\n",
       "      <td>75504</td>\n",
       "      <td>101676</td>\n",
       "      <td>455024</td>\n",
       "      <td>1156318</td>\n",
       "      <td>3011543</td>\n",
       "      <td>https://images.gr-assets.com/books/1474154022m...</td>\n",
       "      <td>https://images.gr-assets.com/books/1474154022s...</td>\n",
       "    </tr>\n",
       "    <tr>\n",
       "      <td>2</td>\n",
       "      <td>3</td>\n",
       "      <td>41865</td>\n",
       "      <td>41865</td>\n",
       "      <td>3212258</td>\n",
       "      <td>226</td>\n",
       "      <td>316015849</td>\n",
       "      <td>9.780316e+12</td>\n",
       "      <td>Stephenie Meyer</td>\n",
       "      <td>2005.0</td>\n",
       "      <td>Twilight</td>\n",
       "      <td>...</td>\n",
       "      <td>3866839</td>\n",
       "      <td>3916824</td>\n",
       "      <td>95009</td>\n",
       "      <td>456191</td>\n",
       "      <td>436802</td>\n",
       "      <td>793319</td>\n",
       "      <td>875073</td>\n",
       "      <td>1355439</td>\n",
       "      <td>https://images.gr-assets.com/books/1361039443m...</td>\n",
       "      <td>https://images.gr-assets.com/books/1361039443s...</td>\n",
       "    </tr>\n",
       "    <tr>\n",
       "      <td>3</td>\n",
       "      <td>4</td>\n",
       "      <td>2657</td>\n",
       "      <td>2657</td>\n",
       "      <td>3275794</td>\n",
       "      <td>487</td>\n",
       "      <td>61120081</td>\n",
       "      <td>9.780061e+12</td>\n",
       "      <td>Harper Lee</td>\n",
       "      <td>1960.0</td>\n",
       "      <td>To Kill a Mockingbird</td>\n",
       "      <td>...</td>\n",
       "      <td>3198671</td>\n",
       "      <td>3340896</td>\n",
       "      <td>72586</td>\n",
       "      <td>60427</td>\n",
       "      <td>117415</td>\n",
       "      <td>446835</td>\n",
       "      <td>1001952</td>\n",
       "      <td>1714267</td>\n",
       "      <td>https://images.gr-assets.com/books/1361975680m...</td>\n",
       "      <td>https://images.gr-assets.com/books/1361975680s...</td>\n",
       "    </tr>\n",
       "    <tr>\n",
       "      <td>4</td>\n",
       "      <td>5</td>\n",
       "      <td>4671</td>\n",
       "      <td>4671</td>\n",
       "      <td>245494</td>\n",
       "      <td>1356</td>\n",
       "      <td>743273567</td>\n",
       "      <td>9.780743e+12</td>\n",
       "      <td>F. Scott Fitzgerald</td>\n",
       "      <td>1925.0</td>\n",
       "      <td>The Great Gatsby</td>\n",
       "      <td>...</td>\n",
       "      <td>2683664</td>\n",
       "      <td>2773745</td>\n",
       "      <td>51992</td>\n",
       "      <td>86236</td>\n",
       "      <td>197621</td>\n",
       "      <td>606158</td>\n",
       "      <td>936012</td>\n",
       "      <td>947718</td>\n",
       "      <td>https://images.gr-assets.com/books/1490528560m...</td>\n",
       "      <td>https://images.gr-assets.com/books/1490528560s...</td>\n",
       "    </tr>\n",
       "    <tr>\n",
       "      <td>...</td>\n",
       "      <td>...</td>\n",
       "      <td>...</td>\n",
       "      <td>...</td>\n",
       "      <td>...</td>\n",
       "      <td>...</td>\n",
       "      <td>...</td>\n",
       "      <td>...</td>\n",
       "      <td>...</td>\n",
       "      <td>...</td>\n",
       "      <td>...</td>\n",
       "      <td>...</td>\n",
       "      <td>...</td>\n",
       "      <td>...</td>\n",
       "      <td>...</td>\n",
       "      <td>...</td>\n",
       "      <td>...</td>\n",
       "      <td>...</td>\n",
       "      <td>...</td>\n",
       "      <td>...</td>\n",
       "      <td>...</td>\n",
       "      <td>...</td>\n",
       "    </tr>\n",
       "    <tr>\n",
       "      <td>9995</td>\n",
       "      <td>9996</td>\n",
       "      <td>7130616</td>\n",
       "      <td>7130616</td>\n",
       "      <td>7392860</td>\n",
       "      <td>19</td>\n",
       "      <td>441019455</td>\n",
       "      <td>9.780441e+12</td>\n",
       "      <td>Ilona Andrews</td>\n",
       "      <td>2010.0</td>\n",
       "      <td>Bayou Moon</td>\n",
       "      <td>...</td>\n",
       "      <td>17204</td>\n",
       "      <td>18856</td>\n",
       "      <td>1180</td>\n",
       "      <td>105</td>\n",
       "      <td>575</td>\n",
       "      <td>3538</td>\n",
       "      <td>7860</td>\n",
       "      <td>6778</td>\n",
       "      <td>https://images.gr-assets.com/books/1307445460m...</td>\n",
       "      <td>https://images.gr-assets.com/books/1307445460s...</td>\n",
       "    </tr>\n",
       "    <tr>\n",
       "      <td>9996</td>\n",
       "      <td>9997</td>\n",
       "      <td>208324</td>\n",
       "      <td>208324</td>\n",
       "      <td>1084709</td>\n",
       "      <td>19</td>\n",
       "      <td>067973371X</td>\n",
       "      <td>9.780680e+12</td>\n",
       "      <td>Robert A. Caro</td>\n",
       "      <td>1990.0</td>\n",
       "      <td>Means of Ascent</td>\n",
       "      <td>...</td>\n",
       "      <td>12582</td>\n",
       "      <td>12952</td>\n",
       "      <td>395</td>\n",
       "      <td>303</td>\n",
       "      <td>551</td>\n",
       "      <td>1737</td>\n",
       "      <td>3389</td>\n",
       "      <td>6972</td>\n",
       "      <td>https://s.gr-assets.com/assets/nophoto/book/11...</td>\n",
       "      <td>https://s.gr-assets.com/assets/nophoto/book/50...</td>\n",
       "    </tr>\n",
       "    <tr>\n",
       "      <td>9997</td>\n",
       "      <td>9998</td>\n",
       "      <td>77431</td>\n",
       "      <td>77431</td>\n",
       "      <td>2393986</td>\n",
       "      <td>60</td>\n",
       "      <td>039330762X</td>\n",
       "      <td>9.780393e+12</td>\n",
       "      <td>Patrick O'Brian</td>\n",
       "      <td>1977.0</td>\n",
       "      <td>The Mauritius Command</td>\n",
       "      <td>...</td>\n",
       "      <td>9421</td>\n",
       "      <td>10733</td>\n",
       "      <td>374</td>\n",
       "      <td>11</td>\n",
       "      <td>111</td>\n",
       "      <td>1191</td>\n",
       "      <td>4240</td>\n",
       "      <td>5180</td>\n",
       "      <td>https://images.gr-assets.com/books/1455373531m...</td>\n",
       "      <td>https://images.gr-assets.com/books/1455373531s...</td>\n",
       "    </tr>\n",
       "    <tr>\n",
       "      <td>9998</td>\n",
       "      <td>9999</td>\n",
       "      <td>8565083</td>\n",
       "      <td>8565083</td>\n",
       "      <td>13433613</td>\n",
       "      <td>7</td>\n",
       "      <td>61711527</td>\n",
       "      <td>9.780062e+12</td>\n",
       "      <td>Peggy Orenstein</td>\n",
       "      <td>2011.0</td>\n",
       "      <td>Cinderella Ate My Daughter: Dispatches from th...</td>\n",
       "      <td>...</td>\n",
       "      <td>11279</td>\n",
       "      <td>11994</td>\n",
       "      <td>1988</td>\n",
       "      <td>275</td>\n",
       "      <td>1002</td>\n",
       "      <td>3765</td>\n",
       "      <td>4577</td>\n",
       "      <td>2375</td>\n",
       "      <td>https://images.gr-assets.com/books/1279214118m...</td>\n",
       "      <td>https://images.gr-assets.com/books/1279214118s...</td>\n",
       "    </tr>\n",
       "    <tr>\n",
       "      <td>9999</td>\n",
       "      <td>10000</td>\n",
       "      <td>8914</td>\n",
       "      <td>8914</td>\n",
       "      <td>11817</td>\n",
       "      <td>31</td>\n",
       "      <td>375700455</td>\n",
       "      <td>9.780376e+12</td>\n",
       "      <td>John Keegan</td>\n",
       "      <td>1998.0</td>\n",
       "      <td>The First World War</td>\n",
       "      <td>...</td>\n",
       "      <td>9162</td>\n",
       "      <td>9700</td>\n",
       "      <td>364</td>\n",
       "      <td>117</td>\n",
       "      <td>345</td>\n",
       "      <td>2031</td>\n",
       "      <td>4138</td>\n",
       "      <td>3069</td>\n",
       "      <td>https://images.gr-assets.com/books/1403194704m...</td>\n",
       "      <td>https://images.gr-assets.com/books/1403194704s...</td>\n",
       "    </tr>\n",
       "  </tbody>\n",
       "</table>\n",
       "<p>10000 rows × 23 columns</p>\n",
       "</div>"
      ],
      "text/plain": [
       "         id  book_id  best_book_id   work_id  books_count        isbn  \\\n",
       "0         1  2767052       2767052   2792775          272   439023483   \n",
       "1         2        3             3   4640799          491   439554934   \n",
       "2         3    41865         41865   3212258          226   316015849   \n",
       "3         4     2657          2657   3275794          487    61120081   \n",
       "4         5     4671          4671    245494         1356   743273567   \n",
       "...     ...      ...           ...       ...          ...         ...   \n",
       "9995   9996  7130616       7130616   7392860           19   441019455   \n",
       "9996   9997   208324        208324   1084709           19  067973371X   \n",
       "9997   9998    77431         77431   2393986           60  039330762X   \n",
       "9998   9999  8565083       8565083  13433613            7    61711527   \n",
       "9999  10000     8914          8914     11817           31   375700455   \n",
       "\n",
       "            isbn13                       authors  original_publication_year  \\\n",
       "0     9.780439e+12               Suzanne Collins                     2008.0   \n",
       "1     9.780440e+12  J.K. Rowling, Mary GrandPrÃ©                     1997.0   \n",
       "2     9.780316e+12               Stephenie Meyer                     2005.0   \n",
       "3     9.780061e+12                    Harper Lee                     1960.0   \n",
       "4     9.780743e+12           F. Scott Fitzgerald                     1925.0   \n",
       "...            ...                           ...                        ...   \n",
       "9995  9.780441e+12                 Ilona Andrews                     2010.0   \n",
       "9996  9.780680e+12                Robert A. Caro                     1990.0   \n",
       "9997  9.780393e+12               Patrick O'Brian                     1977.0   \n",
       "9998  9.780062e+12               Peggy Orenstein                     2011.0   \n",
       "9999  9.780376e+12                   John Keegan                     1998.0   \n",
       "\n",
       "                                         original_title  ... ratings_count  \\\n",
       "0                                      The Hunger Games  ...       4780653   \n",
       "1              Harry Potter and the Philosopher's Stone  ...       4602479   \n",
       "2                                              Twilight  ...       3866839   \n",
       "3                                 To Kill a Mockingbird  ...       3198671   \n",
       "4                                      The Great Gatsby  ...       2683664   \n",
       "...                                                 ...  ...           ...   \n",
       "9995                                         Bayou Moon  ...         17204   \n",
       "9996                                   Means of Ascent   ...         12582   \n",
       "9997                              The Mauritius Command  ...          9421   \n",
       "9998  Cinderella Ate My Daughter: Dispatches from th...  ...         11279   \n",
       "9999                                The First World War  ...          9162   \n",
       "\n",
       "     work_ratings_count  work_text_reviews_count  ratings_1  ratings_2  \\\n",
       "0               4942365                   155254      66715     127936   \n",
       "1               4800065                    75867      75504     101676   \n",
       "2               3916824                    95009     456191     436802   \n",
       "3               3340896                    72586      60427     117415   \n",
       "4               2773745                    51992      86236     197621   \n",
       "...                 ...                      ...        ...        ...   \n",
       "9995              18856                     1180        105        575   \n",
       "9996              12952                      395        303        551   \n",
       "9997              10733                      374         11        111   \n",
       "9998              11994                     1988        275       1002   \n",
       "9999               9700                      364        117        345   \n",
       "\n",
       "      ratings_3  ratings_4  ratings_5  \\\n",
       "0        560092    1481305    2706317   \n",
       "1        455024    1156318    3011543   \n",
       "2        793319     875073    1355439   \n",
       "3        446835    1001952    1714267   \n",
       "4        606158     936012     947718   \n",
       "...         ...        ...        ...   \n",
       "9995       3538       7860       6778   \n",
       "9996       1737       3389       6972   \n",
       "9997       1191       4240       5180   \n",
       "9998       3765       4577       2375   \n",
       "9999       2031       4138       3069   \n",
       "\n",
       "                                              image_url  \\\n",
       "0     https://images.gr-assets.com/books/1447303603m...   \n",
       "1     https://images.gr-assets.com/books/1474154022m...   \n",
       "2     https://images.gr-assets.com/books/1361039443m...   \n",
       "3     https://images.gr-assets.com/books/1361975680m...   \n",
       "4     https://images.gr-assets.com/books/1490528560m...   \n",
       "...                                                 ...   \n",
       "9995  https://images.gr-assets.com/books/1307445460m...   \n",
       "9996  https://s.gr-assets.com/assets/nophoto/book/11...   \n",
       "9997  https://images.gr-assets.com/books/1455373531m...   \n",
       "9998  https://images.gr-assets.com/books/1279214118m...   \n",
       "9999  https://images.gr-assets.com/books/1403194704m...   \n",
       "\n",
       "                                        small_image_url  \n",
       "0     https://images.gr-assets.com/books/1447303603s...  \n",
       "1     https://images.gr-assets.com/books/1474154022s...  \n",
       "2     https://images.gr-assets.com/books/1361039443s...  \n",
       "3     https://images.gr-assets.com/books/1361975680s...  \n",
       "4     https://images.gr-assets.com/books/1490528560s...  \n",
       "...                                                 ...  \n",
       "9995  https://images.gr-assets.com/books/1307445460s...  \n",
       "9996  https://s.gr-assets.com/assets/nophoto/book/50...  \n",
       "9997  https://images.gr-assets.com/books/1455373531s...  \n",
       "9998  https://images.gr-assets.com/books/1279214118s...  \n",
       "9999  https://images.gr-assets.com/books/1403194704s...  \n",
       "\n",
       "[10000 rows x 23 columns]"
      ]
     },
     "execution_count": 47,
     "metadata": {},
     "output_type": "execute_result"
    }
   ],
   "source": [
    "pd.read_csv('data/goodbooks/books.csv', encoding = \"ISO-8859-1\")"
   ]
  },
  {
   "cell_type": "code",
   "execution_count": 48,
   "metadata": {},
   "outputs": [],
   "source": [
    "ratings_df = pd.read_csv('data/goodbooks/ratings.csv')"
   ]
  },
  {
   "cell_type": "code",
   "execution_count": 49,
   "metadata": {},
   "outputs": [
    {
     "data": {
      "text/plain": [
       "1644"
      ]
     },
     "execution_count": 49,
     "metadata": {},
     "output_type": "execute_result"
    }
   ],
   "source": [
    "# number of duplicated ratings\n",
    "ratings_df.duplicated().sum()"
   ]
  },
  {
   "cell_type": "code",
   "execution_count": 50,
   "metadata": {},
   "outputs": [],
   "source": [
    "clean_ratings_df = ratings_df.drop_duplicates()"
   ]
  },
  {
   "cell_type": "code",
   "execution_count": 51,
   "metadata": {},
   "outputs": [
    {
     "name": "stdout",
     "output_type": "stream",
     "text": [
      " len before duplicate cleaning:  981756\n",
      "len after remove duplicates:  980112\n",
      "Duplicates removal OK!!!!!!!!!\n"
     ]
    }
   ],
   "source": [
    "print(' len before duplicate cleaning: ', len(ratings_df))\n",
    "print('len after remove duplicates: ', len(clean_ratings_df))\n",
    "if len(ratings_df) -  len(clean_ratings_df) == 1644:\n",
    "    print('Duplicates removal OK!!!!!!!!!')\n",
    "else:\n",
    "    print(' Duplicates removal NOK. Dataset version might have change. plz check')    "
   ]
  },
  {
   "cell_type": "markdown",
   "metadata": {},
   "source": [
    "## rating by user and bookid"
   ]
  },
  {
   "cell_type": "code",
   "execution_count": 52,
   "metadata": {},
   "outputs": [
    {
     "data": {
      "text/plain": [
       "1    978845\n",
       "2       632\n",
       "3         1\n",
       "Name: rating, dtype: int64"
      ]
     },
     "execution_count": 52,
     "metadata": {},
     "output_type": "execute_result"
    }
   ],
   "source": [
    "clean_ratings_df.groupby(by=['book_id', 'user_id']).count()['rating'].value_counts()\n",
    "# this means that we have some some user that rated twice a particular book \n",
    "# probably we are going to replace this repeted rating by some value. My first idea now is to replace\n",
    "# by the avg of the ratings"
   ]
  },
  {
   "cell_type": "markdown",
   "metadata": {},
   "source": [
    "## ratings per user"
   ]
  },
  {
   "cell_type": "code",
   "execution_count": 53,
   "metadata": {},
   "outputs": [
    {
     "name": "stdout",
     "output_type": "stream",
     "text": [
      "number of users:  53424\n"
     ]
    }
   ],
   "source": [
    "# count of ratign per user\n",
    "count_ratings_user =  clean_ratings_df.groupby(by = 'user_id').count()['rating'].value_counts()\n",
    "total_users = count_ratings_user.sum()\n",
    "print('number of users: ', total_users)"
   ]
  },
  {
   "cell_type": "code",
   "execution_count": 54,
   "metadata": {},
   "outputs": [
    {
     "data": {
      "text/plain": [
       "2      8302\n",
       "3      5438\n",
       "4      3976\n",
       "5      3219\n",
       "6      2464\n",
       "       ... \n",
       "197       2\n",
       "164       2\n",
       "150       2\n",
       "200       2\n",
       "158       1\n",
       "Name: rating, Length: 199, dtype: int64"
      ]
     },
     "execution_count": 54,
     "metadata": {},
     "output_type": "execute_result"
    }
   ],
   "source": [
    "count_ratings_user"
   ]
  },
  {
   "cell_type": "code",
   "execution_count": 55,
   "metadata": {},
   "outputs": [
    {
     "name": "stdout",
     "output_type": "stream",
     "text": [
      "980112\n",
      "users with less than 3 ratings 8337\n",
      "%  0.85  of the user have less than 3 ratings\n"
     ]
    }
   ],
   "source": [
    "# total number of ratings\n",
    "print(len(clean_ratings_df))\n",
    "min_ratings = 3\n",
    "print(\"users with less than 3 ratings\",count_ratings_user[count_ratings_user.index < min_ratings].sum() )\n",
    "print(\"% \",\n",
    "      round((count_ratings_user[count_ratings_user.index < min_ratings].sum() / len(clean_ratings_df)) * 100,2),\n",
    "     \" of the user have less than 3 ratings\")"
   ]
  },
  {
   "cell_type": "markdown",
   "metadata": {},
   "source": [
    "## Subset data"
   ]
  },
  {
   "cell_type": "markdown",
   "metadata": {},
   "source": [
    "In order to speed the calculation and due to training purposes I am going to subset the number of clients."
   ]
  },
  {
   "cell_type": "code",
   "execution_count": 56,
   "metadata": {},
   "outputs": [],
   "source": [
    "client_fraction = 0.2 \n",
    "\n",
    "# to sensure reproducibility\n",
    "random.seed(1)\n",
    "users_set = set(clean_ratings_df['user_id'].unique())  # use set due to random.sample requirement\n"
   ]
  },
  {
   "cell_type": "code",
   "execution_count": 57,
   "metadata": {},
   "outputs": [
    {
     "name": "stdout",
     "output_type": "stream",
     "text": [
      "total subset users:  10684\n"
     ]
    }
   ],
   "source": [
    "users_subset = random.sample(users_set, int(total_users * client_fraction))\n",
    "total_subset_users = len(users_subset)\n",
    "print('total subset users: ', total_subset_users)"
   ]
  },
  {
   "cell_type": "code",
   "execution_count": 58,
   "metadata": {},
   "outputs": [],
   "source": [
    "# now we need to filter our ratings based on the selected users"
   ]
  },
  {
   "cell_type": "code",
   "execution_count": 59,
   "metadata": {},
   "outputs": [
    {
     "name": "stdout",
     "output_type": "stream",
     "text": [
      "new subset rating length:  197783\n"
     ]
    }
   ],
   "source": [
    "subset_ratings_df = clean_ratings_df.loc[clean_ratings_df.user_id.isin(users_subset),:]\n",
    "print('new subset rating length: ', len(subset_ratings_df))"
   ]
  },
  {
   "cell_type": "markdown",
   "metadata": {},
   "source": [
    "# EDA - Exploratory Data Analysis"
   ]
  },
  {
   "cell_type": "markdown",
   "metadata": {},
   "source": [
    "## Ratings distribution"
   ]
  },
  {
   "cell_type": "code",
   "execution_count": 60,
   "metadata": {},
   "outputs": [],
   "source": [
    "# set matplotlib theme\n",
    "plt.style.use('ggplot')\n"
   ]
  },
  {
   "cell_type": "code",
   "execution_count": 61,
   "metadata": {},
   "outputs": [
    {
     "data": {
      "text/plain": [
       "Text(0.5, 1.0, 'Count of rating of all subset users')"
      ]
     },
     "execution_count": 61,
     "metadata": {},
     "output_type": "execute_result"
    },
    {
     "data": {
      "image/png": "[encoded data removed]",
      "text/plain": [
       "<Figure size 576x432 with 1 Axes>"
      ]
     },
     "metadata": {},
     "output_type": "display_data"
    }
   ],
   "source": [
    "unique_ratings = sorted(subset_ratings_df.rating.unique())\n",
    "plt.figure(figsize=(8,6))\n",
    "counts = list(subset_ratings_df.rating.value_counts().sort_index().values)\n",
    "_ = plt.bar(x =unique_ratings, height = counts)\n",
    "plt.xticks( [1,2,3,4,5])\n",
    "plt.xlabel('rating value')\n",
    "plt.ylabel('ratings count')\n",
    "plt.title('Count of rating of all subset users')"
   ]
  },
  {
   "cell_type": "markdown",
   "metadata": {},
   "source": [
    "## Number of rating per user"
   ]
  },
  {
   "cell_type": "code",
   "execution_count": 62,
   "metadata": {},
   "outputs": [
    {
     "data": {
      "text/plain": [
       "<matplotlib.axes._subplots.AxesSubplot at 0x7fd36bb31850>"
      ]
     },
     "execution_count": 62,
     "metadata": {},
     "output_type": "execute_result"
    },
    {
     "data": {
      "image/png": "[encoded data removed]",
      "text/plain": [
       "<Figure size 576x432 with 1 Axes>"
      ]
     },
     "metadata": {},
     "output_type": "display_data"
    }
   ],
   "source": [
    "subset_ratings_df.groupby(by='user_id').count()['rating'].value_counts().hist(bins=100, figsize=(8,6))"
   ]
  },
  {
   "cell_type": "code",
   "execution_count": 63,
   "metadata": {},
   "outputs": [],
   "source": [
    "# show less than 50 ratings"
   ]
  },
  {
   "cell_type": "code",
   "execution_count": 64,
   "metadata": {},
   "outputs": [],
   "source": [
    "subset_ratings_user = subset_ratings_df.groupby(by='user_id').count()['rating'].value_counts()"
   ]
  },
  {
   "cell_type": "code",
   "execution_count": 65,
   "metadata": {},
   "outputs": [
    {
     "data": {
      "image/png": "[encoded data removed]",
      "text/plain": [
       "<Figure size 576x432 with 1 Axes>"
      ]
     },
     "metadata": {},
     "output_type": "display_data"
    }
   ],
   "source": [
    "subset_ratings_user[subset_ratings_user < 50].hist(bins=50, figsize=(8,6))\n",
    "_ = plt.title('count of ratings by user')\n",
    "_ = plt.ylabel('count')\n",
    "_ = plt.xlabel('number of ratings')"
   ]
  },
  {
   "cell_type": "markdown",
   "metadata": {},
   "source": [
    "As can be concluded from the above plot, the greatest majority of user as less than ten ratings. "
   ]
  },
  {
   "cell_type": "markdown",
   "metadata": {},
   "source": [
    "## Distribution of mean user ratings"
   ]
  },
  {
   "cell_type": "markdown",
   "metadata": {},
   "source": [
    "Each pearson has it own rating preferences. Some are very easy voters which means that rate most of books with high values or very low. On other hand, some are very selective when give max rating. Usually, this is handled by avg the user rating profile to zero. "
   ]
  },
  {
   "cell_type": "code",
   "execution_count": 66,
   "metadata": {},
   "outputs": [
    {
     "data": {
      "image/png": "[encoded data removed]",
      "text/plain": [
       "<Figure size 576x432 with 1 Axes>"
      ]
     },
     "metadata": {},
     "output_type": "display_data"
    }
   ],
   "source": [
    "subset_ratings_df.groupby('user_id').mean()['rating'].hist(bins=25, figsize=(8,6))\n",
    "_ = plt.title('distribution of the avg rating by user')\n",
    "_ = plt.ylabel('count')\n",
    "_ = plt.xlabel('mean by user')"
   ]
  },
  {
   "cell_type": "markdown",
   "metadata": {},
   "source": [
    "## Distribution of ratings by book"
   ]
  },
  {
   "cell_type": "code",
   "execution_count": 67,
   "metadata": {},
   "outputs": [
    {
     "data": {
      "image/png": "[encoded data removed]",
      "text/plain": [
       "<Figure size 576x432 with 1 Axes>"
      ]
     },
     "metadata": {},
     "output_type": "display_data"
    }
   ],
   "source": [
    "subset_ratings_df.groupby('book_id').count()['rating'].hist(bins=40, figsize=(8,6))\n",
    "_ = plt.title('count of ratings by book')\n",
    "_ = plt.ylabel('count')\n",
    "_ = plt.xlabel('ratings by book')"
   ]
  },
  {
   "cell_type": "markdown",
   "metadata": {},
   "source": [
    "As can be seen from the above plot, most books have between 18-22 ratings"
   ]
  },
  {
   "cell_type": "markdown",
   "metadata": {},
   "source": [
    "## avg of book ratings"
   ]
  },
  {
   "cell_type": "code",
   "execution_count": 68,
   "metadata": {},
   "outputs": [
    {
     "data": {
      "image/png": "[encoded data removed]",
      "text/plain": [
       "<Figure size 576x432 with 1 Axes>"
      ]
     },
     "metadata": {},
     "output_type": "display_data"
    }
   ],
   "source": [
    "subset_ratings_df.groupby('book_id').mean()['rating'].hist(bins=40, figsize=(8,6))\n",
    "_ = plt.title('mean of ratings by book')\n",
    "_ = plt.ylabel('count')\n",
    "_ = plt.xlabel('ratings avg by book')"
   ]
  },
  {
   "cell_type": "markdown",
   "metadata": {},
   "source": [
    "## Top rated books"
   ]
  },
  {
   "cell_type": "code",
   "execution_count": 69,
   "metadata": {},
   "outputs": [],
   "source": [
    "books = pd.read_csv('data/goodbooks/books.csv')"
   ]
  },
  {
   "cell_type": "code",
   "execution_count": 70,
   "metadata": {},
   "outputs": [
    {
     "data": {
      "text/html": [
       "<div>\n",
       "<style scoped>\n",
       "    .dataframe tbody tr th:only-of-type {\n",
       "        vertical-align: middle;\n",
       "    }\n",
       "\n",
       "    .dataframe tbody tr th {\n",
       "        vertical-align: top;\n",
       "    }\n",
       "\n",
       "    .dataframe thead th {\n",
       "        text-align: right;\n",
       "    }\n",
       "</style>\n",
       "<table border=\"1\" class=\"dataframe\">\n",
       "  <thead>\n",
       "    <tr style=\"text-align: right;\">\n",
       "      <th></th>\n",
       "      <th>title</th>\n",
       "      <th>ratings_count</th>\n",
       "      <th>average_rating</th>\n",
       "    </tr>\n",
       "  </thead>\n",
       "  <tbody>\n",
       "    <tr>\n",
       "      <td>3627</td>\n",
       "      <td>The Complete Calvin and Hobbes</td>\n",
       "      <td>28900</td>\n",
       "      <td>4.82</td>\n",
       "    </tr>\n",
       "    <tr>\n",
       "      <td>3274</td>\n",
       "      <td>Harry Potter Boxed Set, Books 1-5 (Harry Potte...</td>\n",
       "      <td>33220</td>\n",
       "      <td>4.77</td>\n",
       "    </tr>\n",
       "    <tr>\n",
       "      <td>861</td>\n",
       "      <td>Words of Radiance (The Stormlight Archive, #2)</td>\n",
       "      <td>73572</td>\n",
       "      <td>4.77</td>\n",
       "    </tr>\n",
       "    <tr>\n",
       "      <td>8853</td>\n",
       "      <td>Mark of the Lion Trilogy</td>\n",
       "      <td>9081</td>\n",
       "      <td>4.76</td>\n",
       "    </tr>\n",
       "    <tr>\n",
       "      <td>7946</td>\n",
       "      <td>ESV Study Bible</td>\n",
       "      <td>8953</td>\n",
       "      <td>4.76</td>\n",
       "    </tr>\n",
       "    <tr>\n",
       "      <td>...</td>\n",
       "      <td>...</td>\n",
       "      <td>...</td>\n",
       "      <td>...</td>\n",
       "    </tr>\n",
       "    <tr>\n",
       "      <td>9020</td>\n",
       "      <td>Lost</td>\n",
       "      <td>12534</td>\n",
       "      <td>2.80</td>\n",
       "    </tr>\n",
       "    <tr>\n",
       "      <td>4008</td>\n",
       "      <td>Four Blondes</td>\n",
       "      <td>22278</td>\n",
       "      <td>2.80</td>\n",
       "    </tr>\n",
       "    <tr>\n",
       "      <td>8006</td>\n",
       "      <td>The Finkler Question</td>\n",
       "      <td>9627</td>\n",
       "      <td>2.76</td>\n",
       "    </tr>\n",
       "    <tr>\n",
       "      <td>3549</td>\n",
       "      <td>The Almost Moon</td>\n",
       "      <td>28299</td>\n",
       "      <td>2.67</td>\n",
       "    </tr>\n",
       "    <tr>\n",
       "      <td>1792</td>\n",
       "      <td>One Night at the Call Center</td>\n",
       "      <td>40718</td>\n",
       "      <td>2.47</td>\n",
       "    </tr>\n",
       "  </tbody>\n",
       "</table>\n",
       "<p>10000 rows × 3 columns</p>\n",
       "</div>"
      ],
      "text/plain": [
       "                                                  title  ratings_count  \\\n",
       "3627                     The Complete Calvin and Hobbes          28900   \n",
       "3274  Harry Potter Boxed Set, Books 1-5 (Harry Potte...          33220   \n",
       "861      Words of Radiance (The Stormlight Archive, #2)          73572   \n",
       "8853                           Mark of the Lion Trilogy           9081   \n",
       "7946                                    ESV Study Bible           8953   \n",
       "...                                                 ...            ...   \n",
       "9020                                               Lost          12534   \n",
       "4008                                       Four Blondes          22278   \n",
       "8006                               The Finkler Question           9627   \n",
       "3549                                    The Almost Moon          28299   \n",
       "1792                       One Night at the Call Center          40718   \n",
       "\n",
       "      average_rating  \n",
       "3627            4.82  \n",
       "3274            4.77  \n",
       "861             4.77  \n",
       "8853            4.76  \n",
       "7946            4.76  \n",
       "...              ...  \n",
       "9020            2.80  \n",
       "4008            2.80  \n",
       "8006            2.76  \n",
       "3549            2.67  \n",
       "1792            2.47  \n",
       "\n",
       "[10000 rows x 3 columns]"
      ]
     },
     "execution_count": 70,
     "metadata": {},
     "output_type": "execute_result"
    }
   ],
   "source": [
    "books.sort_values('average_rating', ascending=False)[['title', 'ratings_count','average_rating']]"
   ]
  },
  {
   "cell_type": "code",
   "execution_count": 71,
   "metadata": {},
   "outputs": [
    {
     "data": {
      "text/html": [
       "<style  type=\"text/css\" >\n",
       "    #T_4a7d7888_7904_11ea_8ddc_e1dc8ae0d640row0_col0 {\n",
       "            background-color:  #b40426;\n",
       "            color:  #f1f1f1;\n",
       "        }    #T_4a7d7888_7904_11ea_8ddc_e1dc8ae0d640row0_col1 {\n",
       "            background-color:  #3b4cc0;\n",
       "            color:  #f1f1f1;\n",
       "        }    #T_4a7d7888_7904_11ea_8ddc_e1dc8ae0d640row0_col2 {\n",
       "            background-color:  #adc9fd;\n",
       "            color:  #000000;\n",
       "        }    #T_4a7d7888_7904_11ea_8ddc_e1dc8ae0d640row0_col3 {\n",
       "            background-color:  #afcafc;\n",
       "            color:  #000000;\n",
       "        }    #T_4a7d7888_7904_11ea_8ddc_e1dc8ae0d640row0_col4 {\n",
       "            background-color:  #799cf8;\n",
       "            color:  #000000;\n",
       "        }    #T_4a7d7888_7904_11ea_8ddc_e1dc8ae0d640row0_col5 {\n",
       "            background-color:  #3b4cc0;\n",
       "            color:  #f1f1f1;\n",
       "        }    #T_4a7d7888_7904_11ea_8ddc_e1dc8ae0d640row1_col0 {\n",
       "            background-color:  #3b4cc0;\n",
       "            color:  #f1f1f1;\n",
       "        }    #T_4a7d7888_7904_11ea_8ddc_e1dc8ae0d640row1_col1 {\n",
       "            background-color:  #b40426;\n",
       "            color:  #f1f1f1;\n",
       "        }    #T_4a7d7888_7904_11ea_8ddc_e1dc8ae0d640row1_col2 {\n",
       "            background-color:  #3b4cc0;\n",
       "            color:  #f1f1f1;\n",
       "        }    #T_4a7d7888_7904_11ea_8ddc_e1dc8ae0d640row1_col3 {\n",
       "            background-color:  #3b4cc0;\n",
       "            color:  #f1f1f1;\n",
       "        }    #T_4a7d7888_7904_11ea_8ddc_e1dc8ae0d640row1_col4 {\n",
       "            background-color:  #4055c8;\n",
       "            color:  #f1f1f1;\n",
       "        }    #T_4a7d7888_7904_11ea_8ddc_e1dc8ae0d640row1_col5 {\n",
       "            background-color:  #536edd;\n",
       "            color:  #000000;\n",
       "        }    #T_4a7d7888_7904_11ea_8ddc_e1dc8ae0d640row2_col0 {\n",
       "            background-color:  #dadce0;\n",
       "            color:  #000000;\n",
       "        }    #T_4a7d7888_7904_11ea_8ddc_e1dc8ae0d640row2_col1 {\n",
       "            background-color:  #84a7fc;\n",
       "            color:  #000000;\n",
       "        }    #T_4a7d7888_7904_11ea_8ddc_e1dc8ae0d640row2_col2 {\n",
       "            background-color:  #b40426;\n",
       "            color:  #f1f1f1;\n",
       "        }    #T_4a7d7888_7904_11ea_8ddc_e1dc8ae0d640row2_col3 {\n",
       "            background-color:  #b50927;\n",
       "            color:  #f1f1f1;\n",
       "        }    #T_4a7d7888_7904_11ea_8ddc_e1dc8ae0d640row2_col4 {\n",
       "            background-color:  #f18d6f;\n",
       "            color:  #000000;\n",
       "        }    #T_4a7d7888_7904_11ea_8ddc_e1dc8ae0d640row2_col5 {\n",
       "            background-color:  #5b7ae5;\n",
       "            color:  #000000;\n",
       "        }    #T_4a7d7888_7904_11ea_8ddc_e1dc8ae0d640row3_col0 {\n",
       "            background-color:  #dbdcde;\n",
       "            color:  #000000;\n",
       "        }    #T_4a7d7888_7904_11ea_8ddc_e1dc8ae0d640row3_col1 {\n",
       "            background-color:  #84a7fc;\n",
       "            color:  #000000;\n",
       "        }    #T_4a7d7888_7904_11ea_8ddc_e1dc8ae0d640row3_col2 {\n",
       "            background-color:  #b50927;\n",
       "            color:  #f1f1f1;\n",
       "        }    #T_4a7d7888_7904_11ea_8ddc_e1dc8ae0d640row3_col3 {\n",
       "            background-color:  #b40426;\n",
       "            color:  #f1f1f1;\n",
       "        }    #T_4a7d7888_7904_11ea_8ddc_e1dc8ae0d640row3_col4 {\n",
       "            background-color:  #ec8165;\n",
       "            color:  #000000;\n",
       "        }    #T_4a7d7888_7904_11ea_8ddc_e1dc8ae0d640row3_col5 {\n",
       "            background-color:  #5b7ae5;\n",
       "            color:  #000000;\n",
       "        }    #T_4a7d7888_7904_11ea_8ddc_e1dc8ae0d640row4_col0 {\n",
       "            background-color:  #bed2f6;\n",
       "            color:  #000000;\n",
       "        }    #T_4a7d7888_7904_11ea_8ddc_e1dc8ae0d640row4_col1 {\n",
       "            background-color:  #92b4fe;\n",
       "            color:  #000000;\n",
       "        }    #T_4a7d7888_7904_11ea_8ddc_e1dc8ae0d640row4_col2 {\n",
       "            background-color:  #f08b6e;\n",
       "            color:  #000000;\n",
       "        }    #T_4a7d7888_7904_11ea_8ddc_e1dc8ae0d640row4_col3 {\n",
       "            background-color:  #ec7f63;\n",
       "            color:  #000000;\n",
       "        }    #T_4a7d7888_7904_11ea_8ddc_e1dc8ae0d640row4_col4 {\n",
       "            background-color:  #b40426;\n",
       "            color:  #f1f1f1;\n",
       "        }    #T_4a7d7888_7904_11ea_8ddc_e1dc8ae0d640row4_col5 {\n",
       "            background-color:  #506bda;\n",
       "            color:  #000000;\n",
       "        }    #T_4a7d7888_7904_11ea_8ddc_e1dc8ae0d640row5_col0 {\n",
       "            background-color:  #779af7;\n",
       "            color:  #000000;\n",
       "        }    #T_4a7d7888_7904_11ea_8ddc_e1dc8ae0d640row5_col1 {\n",
       "            background-color:  #8fb1fe;\n",
       "            color:  #000000;\n",
       "        }    #T_4a7d7888_7904_11ea_8ddc_e1dc8ae0d640row5_col2 {\n",
       "            background-color:  #4f69d9;\n",
       "            color:  #000000;\n",
       "        }    #T_4a7d7888_7904_11ea_8ddc_e1dc8ae0d640row5_col3 {\n",
       "            background-color:  #4f69d9;\n",
       "            color:  #000000;\n",
       "        }    #T_4a7d7888_7904_11ea_8ddc_e1dc8ae0d640row5_col4 {\n",
       "            background-color:  #3b4cc0;\n",
       "            color:  #f1f1f1;\n",
       "        }    #T_4a7d7888_7904_11ea_8ddc_e1dc8ae0d640row5_col5 {\n",
       "            background-color:  #b40426;\n",
       "            color:  #f1f1f1;\n",
       "        }</style><table id=\"T_4a7d7888_7904_11ea_8ddc_e1dc8ae0d640\" ><thead>    <tr>        <th class=\"blank level0\" ></th>        <th class=\"col_heading level0 col0\" >books_count</th>        <th class=\"col_heading level0 col1\" >original_publication_year</th>        <th class=\"col_heading level0 col2\" >ratings_count</th>        <th class=\"col_heading level0 col3\" >work_ratings_count</th>        <th class=\"col_heading level0 col4\" >work_text_reviews_count</th>        <th class=\"col_heading level0 col5\" >average_rating</th>    </tr></thead><tbody>\n",
       "                <tr>\n",
       "                        <th id=\"T_4a7d7888_7904_11ea_8ddc_e1dc8ae0d640level0_row0\" class=\"row_heading level0 row0\" >books_count</th>\n",
       "                        <td id=\"T_4a7d7888_7904_11ea_8ddc_e1dc8ae0d640row0_col0\" class=\"data row0 col0\" >1</td>\n",
       "                        <td id=\"T_4a7d7888_7904_11ea_8ddc_e1dc8ae0d640row0_col1\" class=\"data row0 col1\" >-0.321753</td>\n",
       "                        <td id=\"T_4a7d7888_7904_11ea_8ddc_e1dc8ae0d640row0_col2\" class=\"data row0 col2\" >0.324235</td>\n",
       "                        <td id=\"T_4a7d7888_7904_11ea_8ddc_e1dc8ae0d640row0_col3\" class=\"data row0 col3\" >0.333664</td>\n",
       "                        <td id=\"T_4a7d7888_7904_11ea_8ddc_e1dc8ae0d640row0_col4\" class=\"data row0 col4\" >0.198698</td>\n",
       "                        <td id=\"T_4a7d7888_7904_11ea_8ddc_e1dc8ae0d640row0_col5\" class=\"data row0 col5\" >-0.0698883</td>\n",
       "            </tr>\n",
       "            <tr>\n",
       "                        <th id=\"T_4a7d7888_7904_11ea_8ddc_e1dc8ae0d640level0_row1\" class=\"row_heading level0 row1\" >original_publication_year</th>\n",
       "                        <td id=\"T_4a7d7888_7904_11ea_8ddc_e1dc8ae0d640row1_col0\" class=\"data row1 col0\" >-0.321753</td>\n",
       "                        <td id=\"T_4a7d7888_7904_11ea_8ddc_e1dc8ae0d640row1_col1\" class=\"data row1 col1\" >1</td>\n",
       "                        <td id=\"T_4a7d7888_7904_11ea_8ddc_e1dc8ae0d640row1_col2\" class=\"data row1 col2\" >-0.0244147</td>\n",
       "                        <td id=\"T_4a7d7888_7904_11ea_8ddc_e1dc8ae0d640row1_col3\" class=\"data row1 col3\" >-0.0254478</td>\n",
       "                        <td id=\"T_4a7d7888_7904_11ea_8ddc_e1dc8ae0d640row1_col4\" class=\"data row1 col4\" >0.0277841</td>\n",
       "                        <td id=\"T_4a7d7888_7904_11ea_8ddc_e1dc8ae0d640row1_col5\" class=\"data row1 col5\" >0.0156076</td>\n",
       "            </tr>\n",
       "            <tr>\n",
       "                        <th id=\"T_4a7d7888_7904_11ea_8ddc_e1dc8ae0d640level0_row2\" class=\"row_heading level0 row2\" >ratings_count</th>\n",
       "                        <td id=\"T_4a7d7888_7904_11ea_8ddc_e1dc8ae0d640row2_col0\" class=\"data row2 col0\" >0.324235</td>\n",
       "                        <td id=\"T_4a7d7888_7904_11ea_8ddc_e1dc8ae0d640row2_col1\" class=\"data row2 col1\" >-0.0244147</td>\n",
       "                        <td id=\"T_4a7d7888_7904_11ea_8ddc_e1dc8ae0d640row2_col2\" class=\"data row2 col2\" >1</td>\n",
       "                        <td id=\"T_4a7d7888_7904_11ea_8ddc_e1dc8ae0d640row2_col3\" class=\"data row2 col3\" >0.995068</td>\n",
       "                        <td id=\"T_4a7d7888_7904_11ea_8ddc_e1dc8ae0d640row2_col4\" class=\"data row2 col4\" >0.779635</td>\n",
       "                        <td id=\"T_4a7d7888_7904_11ea_8ddc_e1dc8ae0d640row2_col5\" class=\"data row2 col5\" >0.0449904</td>\n",
       "            </tr>\n",
       "            <tr>\n",
       "                        <th id=\"T_4a7d7888_7904_11ea_8ddc_e1dc8ae0d640level0_row3\" class=\"row_heading level0 row3\" >work_ratings_count</th>\n",
       "                        <td id=\"T_4a7d7888_7904_11ea_8ddc_e1dc8ae0d640row3_col0\" class=\"data row3 col0\" >0.333664</td>\n",
       "                        <td id=\"T_4a7d7888_7904_11ea_8ddc_e1dc8ae0d640row3_col1\" class=\"data row3 col1\" >-0.0254478</td>\n",
       "                        <td id=\"T_4a7d7888_7904_11ea_8ddc_e1dc8ae0d640row3_col2\" class=\"data row3 col2\" >0.995068</td>\n",
       "                        <td id=\"T_4a7d7888_7904_11ea_8ddc_e1dc8ae0d640row3_col3\" class=\"data row3 col3\" >1</td>\n",
       "                        <td id=\"T_4a7d7888_7904_11ea_8ddc_e1dc8ae0d640row3_col4\" class=\"data row3 col4\" >0.807009</td>\n",
       "                        <td id=\"T_4a7d7888_7904_11ea_8ddc_e1dc8ae0d640row3_col5\" class=\"data row3 col5\" >0.0450416</td>\n",
       "            </tr>\n",
       "            <tr>\n",
       "                        <th id=\"T_4a7d7888_7904_11ea_8ddc_e1dc8ae0d640level0_row4\" class=\"row_heading level0 row4\" >work_text_reviews_count</th>\n",
       "                        <td id=\"T_4a7d7888_7904_11ea_8ddc_e1dc8ae0d640row4_col0\" class=\"data row4 col0\" >0.198698</td>\n",
       "                        <td id=\"T_4a7d7888_7904_11ea_8ddc_e1dc8ae0d640row4_col1\" class=\"data row4 col1\" >0.0277841</td>\n",
       "                        <td id=\"T_4a7d7888_7904_11ea_8ddc_e1dc8ae0d640row4_col2\" class=\"data row4 col2\" >0.779635</td>\n",
       "                        <td id=\"T_4a7d7888_7904_11ea_8ddc_e1dc8ae0d640row4_col3\" class=\"data row4 col3\" >0.807009</td>\n",
       "                        <td id=\"T_4a7d7888_7904_11ea_8ddc_e1dc8ae0d640row4_col4\" class=\"data row4 col4\" >1</td>\n",
       "                        <td id=\"T_4a7d7888_7904_11ea_8ddc_e1dc8ae0d640row4_col5\" class=\"data row4 col5\" >0.00748112</td>\n",
       "            </tr>\n",
       "            <tr>\n",
       "                        <th id=\"T_4a7d7888_7904_11ea_8ddc_e1dc8ae0d640level0_row5\" class=\"row_heading level0 row5\" >average_rating</th>\n",
       "                        <td id=\"T_4a7d7888_7904_11ea_8ddc_e1dc8ae0d640row5_col0\" class=\"data row5 col0\" >-0.0698883</td>\n",
       "                        <td id=\"T_4a7d7888_7904_11ea_8ddc_e1dc8ae0d640row5_col1\" class=\"data row5 col1\" >0.0156076</td>\n",
       "                        <td id=\"T_4a7d7888_7904_11ea_8ddc_e1dc8ae0d640row5_col2\" class=\"data row5 col2\" >0.0449904</td>\n",
       "                        <td id=\"T_4a7d7888_7904_11ea_8ddc_e1dc8ae0d640row5_col3\" class=\"data row5 col3\" >0.0450416</td>\n",
       "                        <td id=\"T_4a7d7888_7904_11ea_8ddc_e1dc8ae0d640row5_col4\" class=\"data row5 col4\" >0.00748112</td>\n",
       "                        <td id=\"T_4a7d7888_7904_11ea_8ddc_e1dc8ae0d640row5_col5\" class=\"data row5 col5\" >1</td>\n",
       "            </tr>\n",
       "    </tbody></table>"
      ],
      "text/plain": [
       "<pandas.io.formats.style.Styler at 0x7fd36b49e3d0>"
      ]
     },
     "execution_count": 71,
     "metadata": {},
     "output_type": "execute_result"
    }
   ],
   "source": [
    "corr = books[[\"books_count\",\"original_publication_year\",\"ratings_count\", \"work_ratings_count\",\n",
    "       \"work_text_reviews_count\", \"average_rating\"]].corr()\n",
    "corr.style.background_gradient(cmap='coolwarm')\n"
   ]
  },
  {
   "cell_type": "markdown",
   "metadata": {},
   "source": [
    "As we can see on the table. none of the bove features are correlated with the book rating. \n",
    "Which means that the rating depends of the book features. Which is something we expect.\n",
    "A particular example is the relationship between the rating and the rating count i.e. popularity. We observe a very low corr 0.0045. This means that popular book don't need to be higly rated. "
   ]
  },
  {
   "cell_type": "markdown",
   "metadata": {},
   "source": [
    "# Business questions to keep in mind\n",
    "- Does the publication of multiple book editions affect the rating?\n",
    "- Do frequent raters rate differently when compared with non frequent raters?\n",
    "- Are series of books best rated?\n",
    "- Are the sequels better that the originals?\n",
    "- Does the length of the title affects the number of ratings?\n",
    "- Does having subtitles affects the books ratings?\n",
    "- Does the number of author affect the book rating?\n"
   ]
  },
  {
   "cell_type": "markdown",
   "metadata": {},
   "source": [
    "# example of a content based applications"
   ]
  },
  {
   "cell_type": "code",
   "execution_count": 72,
   "metadata": {},
   "outputs": [
    {
     "data": {
      "text/html": [
       "<div>\n",
       "<style scoped>\n",
       "    .dataframe tbody tr th:only-of-type {\n",
       "        vertical-align: middle;\n",
       "    }\n",
       "\n",
       "    .dataframe tbody tr th {\n",
       "        vertical-align: top;\n",
       "    }\n",
       "\n",
       "    .dataframe thead th {\n",
       "        text-align: right;\n",
       "    }\n",
       "</style>\n",
       "<table border=\"1\" class=\"dataframe\">\n",
       "  <thead>\n",
       "    <tr style=\"text-align: right;\">\n",
       "      <th></th>\n",
       "      <th>book_id</th>\n",
       "      <th>user_id</th>\n",
       "      <th>rating</th>\n",
       "    </tr>\n",
       "  </thead>\n",
       "  <tbody>\n",
       "    <tr>\n",
       "      <td>2</td>\n",
       "      <td>1</td>\n",
       "      <td>588</td>\n",
       "      <td>5</td>\n",
       "    </tr>\n",
       "    <tr>\n",
       "      <td>22</td>\n",
       "      <td>1</td>\n",
       "      <td>11854</td>\n",
       "      <td>4</td>\n",
       "    </tr>\n",
       "    <tr>\n",
       "      <td>23</td>\n",
       "      <td>1</td>\n",
       "      <td>11927</td>\n",
       "      <td>4</td>\n",
       "    </tr>\n",
       "    <tr>\n",
       "      <td>26</td>\n",
       "      <td>1</td>\n",
       "      <td>13544</td>\n",
       "      <td>5</td>\n",
       "    </tr>\n",
       "    <tr>\n",
       "      <td>27</td>\n",
       "      <td>1</td>\n",
       "      <td>15494</td>\n",
       "      <td>5</td>\n",
       "    </tr>\n",
       "    <tr>\n",
       "      <td>...</td>\n",
       "      <td>...</td>\n",
       "      <td>...</td>\n",
       "      <td>...</td>\n",
       "    </tr>\n",
       "    <tr>\n",
       "      <td>981720</td>\n",
       "      <td>10000</td>\n",
       "      <td>34253</td>\n",
       "      <td>4</td>\n",
       "    </tr>\n",
       "    <tr>\n",
       "      <td>981723</td>\n",
       "      <td>10000</td>\n",
       "      <td>35330</td>\n",
       "      <td>4</td>\n",
       "    </tr>\n",
       "    <tr>\n",
       "      <td>981726</td>\n",
       "      <td>10000</td>\n",
       "      <td>35643</td>\n",
       "      <td>5</td>\n",
       "    </tr>\n",
       "    <tr>\n",
       "      <td>981754</td>\n",
       "      <td>10000</td>\n",
       "      <td>50124</td>\n",
       "      <td>5</td>\n",
       "    </tr>\n",
       "    <tr>\n",
       "      <td>981755</td>\n",
       "      <td>10000</td>\n",
       "      <td>51328</td>\n",
       "      <td>1</td>\n",
       "    </tr>\n",
       "  </tbody>\n",
       "</table>\n",
       "<p>197783 rows × 3 columns</p>\n",
       "</div>"
      ],
      "text/plain": [
       "        book_id  user_id  rating\n",
       "2             1      588       5\n",
       "22            1    11854       4\n",
       "23            1    11927       4\n",
       "26            1    13544       5\n",
       "27            1    15494       5\n",
       "...         ...      ...     ...\n",
       "981720    10000    34253       4\n",
       "981723    10000    35330       4\n",
       "981726    10000    35643       5\n",
       "981754    10000    50124       5\n",
       "981755    10000    51328       1\n",
       "\n",
       "[197783 rows x 3 columns]"
      ]
     },
     "execution_count": 72,
     "metadata": {},
     "output_type": "execute_result"
    }
   ],
   "source": [
    "subset_ratings_df"
   ]
  },
  {
   "cell_type": "code",
   "execution_count": 73,
   "metadata": {},
   "outputs": [],
   "source": [
    "# merge books and tags"
   ]
  },
  {
   "cell_type": "code",
   "execution_count": 74,
   "metadata": {},
   "outputs": [],
   "source": [
    "book_tags = pd.read_csv('data/goodbooks/book_tags.csv')"
   ]
  },
  {
   "cell_type": "code",
   "execution_count": 75,
   "metadata": {},
   "outputs": [
    {
     "name": "stdout",
     "output_type": "stream",
     "text": [
      "<class 'pandas.core.frame.DataFrame'>\n",
      "RangeIndex: 999912 entries, 0 to 999911\n",
      "Data columns (total 3 columns):\n",
      "goodreads_book_id    999912 non-null int64\n",
      "tag_id               999912 non-null int64\n",
      "count                999912 non-null int64\n",
      "dtypes: int64(3)\n",
      "memory usage: 22.9 MB\n"
     ]
    }
   ],
   "source": [
    "book_tags.info()"
   ]
  },
  {
   "cell_type": "code",
   "execution_count": 76,
   "metadata": {},
   "outputs": [],
   "source": [
    "tags = pd.read_csv('data/goodbooks/tags.csv')"
   ]
  },
  {
   "cell_type": "code",
   "execution_count": 77,
   "metadata": {},
   "outputs": [
    {
     "name": "stdout",
     "output_type": "stream",
     "text": [
      "<class 'pandas.core.frame.DataFrame'>\n",
      "RangeIndex: 34252 entries, 0 to 34251\n",
      "Data columns (total 2 columns):\n",
      "tag_id      34252 non-null int64\n",
      "tag_name    34252 non-null object\n",
      "dtypes: int64(1), object(1)\n",
      "memory usage: 535.3+ KB\n"
     ]
    }
   ],
   "source": [
    "tags.info()"
   ]
  },
  {
   "cell_type": "code",
   "execution_count": 78,
   "metadata": {},
   "outputs": [],
   "source": [
    "book_tags_merged = book_tags.merge(tags, on='tag_id', how='inner')"
   ]
  },
  {
   "cell_type": "code",
   "execution_count": 79,
   "metadata": {},
   "outputs": [
    {
     "name": "stdout",
     "output_type": "stream",
     "text": [
      "number of different tags:  34252\n"
     ]
    }
   ],
   "source": [
    "print('number of different tags: ',len(set(book_tags_merged.tag_name)))"
   ]
  },
  {
   "cell_type": "code",
   "execution_count": 80,
   "metadata": {},
   "outputs": [
    {
     "data": {
      "text/html": [
       "<div>\n",
       "<style scoped>\n",
       "    .dataframe tbody tr th:only-of-type {\n",
       "        vertical-align: middle;\n",
       "    }\n",
       "\n",
       "    .dataframe tbody tr th {\n",
       "        vertical-align: top;\n",
       "    }\n",
       "\n",
       "    .dataframe thead th {\n",
       "        text-align: right;\n",
       "    }\n",
       "</style>\n",
       "<table border=\"1\" class=\"dataframe\">\n",
       "  <thead>\n",
       "    <tr style=\"text-align: right;\">\n",
       "      <th></th>\n",
       "      <th>user_id</th>\n",
       "      <th>book_id</th>\n",
       "    </tr>\n",
       "  </thead>\n",
       "  <tbody>\n",
       "    <tr>\n",
       "      <td>0</td>\n",
       "      <td>1</td>\n",
       "      <td>112</td>\n",
       "    </tr>\n",
       "    <tr>\n",
       "      <td>1</td>\n",
       "      <td>1</td>\n",
       "      <td>235</td>\n",
       "    </tr>\n",
       "    <tr>\n",
       "      <td>2</td>\n",
       "      <td>1</td>\n",
       "      <td>533</td>\n",
       "    </tr>\n",
       "    <tr>\n",
       "      <td>3</td>\n",
       "      <td>1</td>\n",
       "      <td>1198</td>\n",
       "    </tr>\n",
       "    <tr>\n",
       "      <td>4</td>\n",
       "      <td>1</td>\n",
       "      <td>1874</td>\n",
       "    </tr>\n",
       "  </tbody>\n",
       "</table>\n",
       "</div>"
      ],
      "text/plain": [
       "   user_id  book_id\n",
       "0        1      112\n",
       "1        1      235\n",
       "2        1      533\n",
       "3        1     1198\n",
       "4        1     1874"
      ]
     },
     "execution_count": 80,
     "metadata": {},
     "output_type": "execute_result"
    }
   ],
   "source": [
    "to_read = pd.read_csv('data/goodbooks/to_read.csv')\n",
    "to_read.head()"
   ]
  },
  {
   "cell_type": "markdown",
   "metadata": {},
   "source": [
    "In order to apply a content based recommendation engine we need to collect features from the books.\n",
    "The first I am going to try, is the author name. \n",
    "To do this, we need to convert the words into a numerical representation. \n",
    "The first attempt will be to use tf-idf. That basically assigns a weight to each word based on rellative importance in the documents. "
   ]
  },
  {
   "cell_type": "code",
   "execution_count": 81,
   "metadata": {},
   "outputs": [],
   "source": [
    "uni_len = len(set((''.join(books['authors'].values.tolist())).lower().split(' ')))"
   ]
  },
  {
   "cell_type": "code",
   "execution_count": 82,
   "metadata": {},
   "outputs": [],
   "source": [
    "# if we add the bigrams\n",
    "bi_len = len(set(books['authors'].values))"
   ]
  },
  {
   "cell_type": "code",
   "execution_count": 83,
   "metadata": {},
   "outputs": [
    {
     "name": "stdout",
     "output_type": "stream",
     "text": [
      "feature length for unigrams + bigrams:  17536\n"
     ]
    }
   ],
   "source": [
    "# The length is bigger because I did not remove the stopwords\n",
    "# Tfidf vectorizer has properties to handle that case\n",
    "print('feature length for unigrams + bigrams: ', uni_len + bi_len)"
   ]
  },
  {
   "cell_type": "code",
   "execution_count": null,
   "metadata": {},
   "outputs": [],
   "source": []
  },
  {
   "cell_type": "code",
   "execution_count": 85,
   "metadata": {},
   "outputs": [],
   "source": [
    "\n",
    "tfidf = TfidfVectorizer(analyzer='word',ngram_range=(1, 2),min_df=0, stop_words='english')\n",
    "tfidf_matrix = tfidf.fit_transform(books['authors'])"
   ]
  },
  {
   "cell_type": "code",
   "execution_count": 86,
   "metadata": {},
   "outputs": [
    {
     "data": {
      "text/plain": [
       "14800"
      ]
     },
     "execution_count": 86,
     "metadata": {},
     "output_type": "execute_result"
    }
   ],
   "source": [
    "len(tfidf.get_feature_names())"
   ]
  },
  {
   "cell_type": "code",
   "execution_count": 87,
   "metadata": {},
   "outputs": [
    {
     "data": {
      "text/plain": [
       "(10000, 14800)"
      ]
     },
     "execution_count": 87,
     "metadata": {},
     "output_type": "execute_result"
    }
   ],
   "source": [
    "tfidf_matrix.shape"
   ]
  },
  {
   "cell_type": "code",
   "execution_count": 88,
   "metadata": {},
   "outputs": [],
   "source": [
    "cosine_sim = linear_kernel(tfidf_matrix, tfidf_matrix)"
   ]
  },
  {
   "cell_type": "code",
   "execution_count": 89,
   "metadata": {},
   "outputs": [],
   "source": [
    "# Build a 1-dimensional array with book titles\n",
    "titles = books['title']\n",
    "indices = pd.Series(books.index, index=books['title'])"
   ]
  },
  {
   "cell_type": "code",
   "execution_count": 90,
   "metadata": {},
   "outputs": [
    {
     "data": {
      "text/plain": [
       "title\n",
       "The Hunger Games (The Hunger Games, #1)                                                         0\n",
       "Harry Potter and the Sorcerer's Stone (Harry Potter, #1)                                        1\n",
       "Twilight (Twilight, #1)                                                                         2\n",
       "To Kill a Mockingbird                                                                           3\n",
       "The Great Gatsby                                                                                4\n",
       "                                                                                             ... \n",
       "Bayou Moon (The Edge, #2)                                                                    9995\n",
       "Means of Ascent (The Years of Lyndon Johnson, #2)                                            9996\n",
       "The Mauritius Command                                                                        9997\n",
       "Cinderella Ate My Daughter: Dispatches from the Frontlines of the New Girlie-Girl Culture    9998\n",
       "The First World War                                                                          9999\n",
       "Length: 10000, dtype: int64"
      ]
     },
     "execution_count": 90,
     "metadata": {},
     "output_type": "execute_result"
    }
   ],
   "source": [
    "indices"
   ]
  },
  {
   "cell_type": "code",
   "execution_count": 91,
   "metadata": {},
   "outputs": [
    {
     "data": {
      "text/plain": [
       "array([[1., 0., 0., ..., 0., 0., 0.],\n",
       "       [0., 1., 0., ..., 0., 0., 0.],\n",
       "       [0., 0., 1., ..., 0., 0., 0.],\n",
       "       ...,\n",
       "       [0., 0., 0., ..., 1., 0., 0.],\n",
       "       [0., 0., 0., ..., 0., 1., 0.],\n",
       "       [0., 0., 0., ..., 0., 0., 1.]])"
      ]
     },
     "execution_count": 91,
     "metadata": {},
     "output_type": "execute_result"
    }
   ],
   "source": [
    "cosine_sim"
   ]
  },
  {
   "cell_type": "code",
   "execution_count": 92,
   "metadata": {},
   "outputs": [],
   "source": [
    "ref_title = 'The Hobbit'\n",
    "idx = indices[ref_title]"
   ]
  },
  {
   "cell_type": "code",
   "execution_count": 93,
   "metadata": {},
   "outputs": [],
   "source": [
    "sim_scores = list(enumerate(cosine_sim[idx]))"
   ]
  },
  {
   "cell_type": "code",
   "execution_count": 94,
   "metadata": {},
   "outputs": [],
   "source": [
    "sim_scores = sorted(sim_scores, key=lambda x: x[1], reverse=True)\n"
   ]
  },
  {
   "cell_type": "code",
   "execution_count": 95,
   "metadata": {},
   "outputs": [
    {
     "data": {
      "text/plain": [
       "[(18, 1.0),\n",
       " (154, 1.0),\n",
       " (160, 1.0),\n",
       " (188, 1.0),\n",
       " (963, 1.0),\n",
       " (4975, 0.7392897825294644),\n",
       " (2308, 0.5902624351487145),\n",
       " (610, 0.5574817139590805),\n",
       " (8271, 0.4294557506655334),\n",
       " (1128, 0.4083418840881659),\n",
       " (465, 0.24362189060736741),\n",
       " (0, 0.0),\n",
       " (1, 0.0),\n",
       " (2, 0.0),\n",
       " (3, 0.0),\n",
       " (4, 0.0),\n",
       " (5, 0.0),\n",
       " (7, 0.0),\n",
       " (8, 0.0),\n",
       " (9, 0.0)]"
      ]
     },
     "execution_count": 95,
     "metadata": {},
     "output_type": "execute_result"
    }
   ],
   "source": [
    "# select top 20\n",
    "sim_scores = sim_scores[1:21]\n",
    "sim_scores"
   ]
  },
  {
   "cell_type": "code",
   "execution_count": 96,
   "metadata": {},
   "outputs": [],
   "source": [
    "book_indices = [i[0] for i in sim_scores]"
   ]
  },
  {
   "cell_type": "code",
   "execution_count": 97,
   "metadata": {},
   "outputs": [
    {
     "data": {
      "text/plain": [
       "18      The Fellowship of the Ring (The Lord of the Ri...\n",
       "154            The Two Towers (The Lord of the Rings, #2)\n",
       "160     The Return of the King (The Lord of the Rings,...\n",
       "188     The Lord of the Rings (The Lord of the Rings, ...\n",
       "963     J.R.R. Tolkien 4-Book Boxed Set: The Hobbit an...\n",
       "4975         Unfinished Tales of Númenor and Middle-Earth\n",
       "2308                                The Children of Húrin\n",
       "610              The Silmarillion (Middle-Earth Universe)\n",
       "8271                   The Complete Guide to Middle-Earth\n",
       "1128     The History of the Hobbit, Part One: Mr. Baggins\n",
       "465                             The Hobbit: Graphic Novel\n",
       "0                 The Hunger Games (The Hunger Games, #1)\n",
       "1       Harry Potter and the Sorcerer's Stone (Harry P...\n",
       "2                                 Twilight (Twilight, #1)\n",
       "3                                   To Kill a Mockingbird\n",
       "4                                        The Great Gatsby\n",
       "5                                  The Fault in Our Stars\n",
       "7                                  The Catcher in the Rye\n",
       "8                   Angels & Demons  (Robert Langdon, #1)\n",
       "9                                     Pride and Prejudice\n",
       "Name: title, dtype: object"
      ]
     },
     "execution_count": 97,
     "metadata": {},
     "output_type": "execute_result"
    }
   ],
   "source": [
    "titles.iloc[book_indices]"
   ]
  },
  {
   "cell_type": "code",
   "execution_count": 98,
   "metadata": {},
   "outputs": [
    {
     "data": {
      "text/html": [
       "<div>\n",
       "<style scoped>\n",
       "    .dataframe tbody tr th:only-of-type {\n",
       "        vertical-align: middle;\n",
       "    }\n",
       "\n",
       "    .dataframe tbody tr th {\n",
       "        vertical-align: top;\n",
       "    }\n",
       "\n",
       "    .dataframe thead th {\n",
       "        text-align: right;\n",
       "    }\n",
       "</style>\n",
       "<table border=\"1\" class=\"dataframe\">\n",
       "  <thead>\n",
       "    <tr style=\"text-align: right;\">\n",
       "      <th></th>\n",
       "      <th>title</th>\n",
       "      <th>authors</th>\n",
       "    </tr>\n",
       "  </thead>\n",
       "  <tbody>\n",
       "    <tr>\n",
       "      <td>18</td>\n",
       "      <td>The Fellowship of the Ring (The Lord of the Ri...</td>\n",
       "      <td>J.R.R. Tolkien</td>\n",
       "    </tr>\n",
       "    <tr>\n",
       "      <td>154</td>\n",
       "      <td>The Two Towers (The Lord of the Rings, #2)</td>\n",
       "      <td>J.R.R. Tolkien</td>\n",
       "    </tr>\n",
       "    <tr>\n",
       "      <td>160</td>\n",
       "      <td>The Return of the King (The Lord of the Rings,...</td>\n",
       "      <td>J.R.R. Tolkien</td>\n",
       "    </tr>\n",
       "    <tr>\n",
       "      <td>188</td>\n",
       "      <td>The Lord of the Rings (The Lord of the Rings, ...</td>\n",
       "      <td>J.R.R. Tolkien</td>\n",
       "    </tr>\n",
       "    <tr>\n",
       "      <td>963</td>\n",
       "      <td>J.R.R. Tolkien 4-Book Boxed Set: The Hobbit an...</td>\n",
       "      <td>J.R.R. Tolkien</td>\n",
       "    </tr>\n",
       "    <tr>\n",
       "      <td>4975</td>\n",
       "      <td>Unfinished Tales of Númenor and Middle-Earth</td>\n",
       "      <td>J.R.R. Tolkien, Christopher Tolkien</td>\n",
       "    </tr>\n",
       "    <tr>\n",
       "      <td>2308</td>\n",
       "      <td>The Children of Húrin</td>\n",
       "      <td>J.R.R. Tolkien, Christopher Tolkien, Alan Lee</td>\n",
       "    </tr>\n",
       "    <tr>\n",
       "      <td>610</td>\n",
       "      <td>The Silmarillion (Middle-Earth Universe)</td>\n",
       "      <td>J.R.R. Tolkien, Christopher Tolkien, Ted Nasmith</td>\n",
       "    </tr>\n",
       "    <tr>\n",
       "      <td>8271</td>\n",
       "      <td>The Complete Guide to Middle-Earth</td>\n",
       "      <td>Robert Foster, J.R.R. Tolkien</td>\n",
       "    </tr>\n",
       "    <tr>\n",
       "      <td>1128</td>\n",
       "      <td>The History of the Hobbit, Part One: Mr. Baggins</td>\n",
       "      <td>John D. Rateliff, J.R.R. Tolkien</td>\n",
       "    </tr>\n",
       "    <tr>\n",
       "      <td>465</td>\n",
       "      <td>The Hobbit: Graphic Novel</td>\n",
       "      <td>Chuck Dixon, J.R.R. Tolkien, David Wenzel, Sea...</td>\n",
       "    </tr>\n",
       "    <tr>\n",
       "      <td>0</td>\n",
       "      <td>The Hunger Games (The Hunger Games, #1)</td>\n",
       "      <td>Suzanne Collins</td>\n",
       "    </tr>\n",
       "    <tr>\n",
       "      <td>1</td>\n",
       "      <td>Harry Potter and the Sorcerer's Stone (Harry P...</td>\n",
       "      <td>J.K. Rowling, Mary GrandPré</td>\n",
       "    </tr>\n",
       "    <tr>\n",
       "      <td>2</td>\n",
       "      <td>Twilight (Twilight, #1)</td>\n",
       "      <td>Stephenie Meyer</td>\n",
       "    </tr>\n",
       "    <tr>\n",
       "      <td>3</td>\n",
       "      <td>To Kill a Mockingbird</td>\n",
       "      <td>Harper Lee</td>\n",
       "    </tr>\n",
       "    <tr>\n",
       "      <td>4</td>\n",
       "      <td>The Great Gatsby</td>\n",
       "      <td>F. Scott Fitzgerald</td>\n",
       "    </tr>\n",
       "    <tr>\n",
       "      <td>5</td>\n",
       "      <td>The Fault in Our Stars</td>\n",
       "      <td>John Green</td>\n",
       "    </tr>\n",
       "    <tr>\n",
       "      <td>7</td>\n",
       "      <td>The Catcher in the Rye</td>\n",
       "      <td>J.D. Salinger</td>\n",
       "    </tr>\n",
       "    <tr>\n",
       "      <td>8</td>\n",
       "      <td>Angels &amp; Demons  (Robert Langdon, #1)</td>\n",
       "      <td>Dan Brown</td>\n",
       "    </tr>\n",
       "    <tr>\n",
       "      <td>9</td>\n",
       "      <td>Pride and Prejudice</td>\n",
       "      <td>Jane Austen</td>\n",
       "    </tr>\n",
       "  </tbody>\n",
       "</table>\n",
       "</div>"
      ],
      "text/plain": [
       "                                                  title  \\\n",
       "18    The Fellowship of the Ring (The Lord of the Ri...   \n",
       "154          The Two Towers (The Lord of the Rings, #2)   \n",
       "160   The Return of the King (The Lord of the Rings,...   \n",
       "188   The Lord of the Rings (The Lord of the Rings, ...   \n",
       "963   J.R.R. Tolkien 4-Book Boxed Set: The Hobbit an...   \n",
       "4975       Unfinished Tales of Númenor and Middle-Earth   \n",
       "2308                              The Children of Húrin   \n",
       "610            The Silmarillion (Middle-Earth Universe)   \n",
       "8271                 The Complete Guide to Middle-Earth   \n",
       "1128   The History of the Hobbit, Part One: Mr. Baggins   \n",
       "465                           The Hobbit: Graphic Novel   \n",
       "0               The Hunger Games (The Hunger Games, #1)   \n",
       "1     Harry Potter and the Sorcerer's Stone (Harry P...   \n",
       "2                               Twilight (Twilight, #1)   \n",
       "3                                 To Kill a Mockingbird   \n",
       "4                                      The Great Gatsby   \n",
       "5                                The Fault in Our Stars   \n",
       "7                                The Catcher in the Rye   \n",
       "8                 Angels & Demons  (Robert Langdon, #1)   \n",
       "9                                   Pride and Prejudice   \n",
       "\n",
       "                                                authors  \n",
       "18                                       J.R.R. Tolkien  \n",
       "154                                      J.R.R. Tolkien  \n",
       "160                                      J.R.R. Tolkien  \n",
       "188                                      J.R.R. Tolkien  \n",
       "963                                      J.R.R. Tolkien  \n",
       "4975                J.R.R. Tolkien, Christopher Tolkien  \n",
       "2308      J.R.R. Tolkien, Christopher Tolkien, Alan Lee  \n",
       "610    J.R.R. Tolkien, Christopher Tolkien, Ted Nasmith  \n",
       "8271                      Robert Foster, J.R.R. Tolkien  \n",
       "1128                   John D. Rateliff, J.R.R. Tolkien  \n",
       "465   Chuck Dixon, J.R.R. Tolkien, David Wenzel, Sea...  \n",
       "0                                       Suzanne Collins  \n",
       "1                           J.K. Rowling, Mary GrandPré  \n",
       "2                                       Stephenie Meyer  \n",
       "3                                            Harper Lee  \n",
       "4                                   F. Scott Fitzgerald  \n",
       "5                                            John Green  \n",
       "7                                         J.D. Salinger  \n",
       "8                                             Dan Brown  \n",
       "9                                           Jane Austen  "
      ]
     },
     "execution_count": 98,
     "metadata": {},
     "output_type": "execute_result"
    }
   ],
   "source": [
    "books.loc[book_indices, ['title', 'authors']]"
   ]
  },
  {
   "cell_type": "markdown",
   "metadata": {},
   "source": [
    "As I expected, the most similar books, are the ones, that contain, J.R.R Tolkien as author. "
   ]
  },
  {
   "cell_type": "markdown",
   "metadata": {},
   "source": [
    "## using tags to create recommendations"
   ]
  },
  {
   "cell_type": "code",
   "execution_count": 99,
   "metadata": {},
   "outputs": [
    {
     "data": {
      "text/plain": [
       "goodreads_book_id\n",
       "1           100\n",
       "2           100\n",
       "3           100\n",
       "5           100\n",
       "6           100\n",
       "           ... \n",
       "31538647    100\n",
       "31845516    100\n",
       "32075671    100\n",
       "32848471    100\n",
       "33288638    100\n",
       "Name: tag_name, Length: 10000, dtype: int64"
      ]
     },
     "execution_count": 99,
     "metadata": {},
     "output_type": "execute_result"
    }
   ],
   "source": [
    "book_tags_merged.groupby('goodreads_book_id')['tag_name'].count()"
   ]
  },
  {
   "cell_type": "code",
   "execution_count": 100,
   "metadata": {},
   "outputs": [],
   "source": [
    "# As can be seen each book as 100 tags\n",
    "# To build my matrix I need to concatenate all the tags for each book"
   ]
  },
  {
   "cell_type": "code",
   "execution_count": 101,
   "metadata": {},
   "outputs": [],
   "source": [
    "tmp_df = book_tags_merged.groupby('goodreads_book_id')['tag_name'].apply(lambda x: ' '.join(x)).reset_index()"
   ]
  },
  {
   "cell_type": "code",
   "execution_count": 102,
   "metadata": {},
   "outputs": [
    {
     "data": {
      "text/html": [
       "<div>\n",
       "<style scoped>\n",
       "    .dataframe tbody tr th:only-of-type {\n",
       "        vertical-align: middle;\n",
       "    }\n",
       "\n",
       "    .dataframe tbody tr th {\n",
       "        vertical-align: top;\n",
       "    }\n",
       "\n",
       "    .dataframe thead th {\n",
       "        text-align: right;\n",
       "    }\n",
       "</style>\n",
       "<table border=\"1\" class=\"dataframe\">\n",
       "  <thead>\n",
       "    <tr style=\"text-align: right;\">\n",
       "      <th></th>\n",
       "      <th>goodreads_book_id</th>\n",
       "      <th>tag_name</th>\n",
       "    </tr>\n",
       "  </thead>\n",
       "  <tbody>\n",
       "    <tr>\n",
       "      <td>0</td>\n",
       "      <td>1</td>\n",
       "      <td>to-read fantasy favorites currently-reading yo...</td>\n",
       "    </tr>\n",
       "    <tr>\n",
       "      <td>1</td>\n",
       "      <td>2</td>\n",
       "      <td>to-read fantasy favorites currently-reading yo...</td>\n",
       "    </tr>\n",
       "    <tr>\n",
       "      <td>2</td>\n",
       "      <td>3</td>\n",
       "      <td>to-read fantasy favorites currently-reading yo...</td>\n",
       "    </tr>\n",
       "    <tr>\n",
       "      <td>3</td>\n",
       "      <td>5</td>\n",
       "      <td>to-read fantasy favorites currently-reading yo...</td>\n",
       "    </tr>\n",
       "    <tr>\n",
       "      <td>4</td>\n",
       "      <td>6</td>\n",
       "      <td>to-read fantasy young-adult fiction harry-pott...</td>\n",
       "    </tr>\n",
       "  </tbody>\n",
       "</table>\n",
       "</div>"
      ],
      "text/plain": [
       "   goodreads_book_id                                           tag_name\n",
       "0                  1  to-read fantasy favorites currently-reading yo...\n",
       "1                  2  to-read fantasy favorites currently-reading yo...\n",
       "2                  3  to-read fantasy favorites currently-reading yo...\n",
       "3                  5  to-read fantasy favorites currently-reading yo...\n",
       "4                  6  to-read fantasy young-adult fiction harry-pott..."
      ]
     },
     "execution_count": 102,
     "metadata": {},
     "output_type": "execute_result"
    }
   ],
   "source": [
    "tmp_df.head()"
   ]
  },
  {
   "cell_type": "code",
   "execution_count": 103,
   "metadata": {},
   "outputs": [],
   "source": [
    "# now we need to calculate TF-IDF on the tags"
   ]
  },
  {
   "cell_type": "code",
   "execution_count": 104,
   "metadata": {},
   "outputs": [],
   "source": [
    "tfidf_matrix = tfidf.fit_transform(tmp_df['tag_name'])"
   ]
  },
  {
   "cell_type": "code",
   "execution_count": 105,
   "metadata": {},
   "outputs": [
    {
     "data": {
      "text/plain": [
       "(10000, 144268)"
      ]
     },
     "execution_count": 105,
     "metadata": {},
     "output_type": "execute_result"
    }
   ],
   "source": [
    "tfidf_matrix.shape"
   ]
  },
  {
   "cell_type": "code",
   "execution_count": 106,
   "metadata": {},
   "outputs": [],
   "source": [
    "cosine_tags = linear_kernel(tfidf_matrix, tfidf_matrix)"
   ]
  },
  {
   "cell_type": "code",
   "execution_count": 107,
   "metadata": {},
   "outputs": [
    {
     "data": {
      "text/plain": [
       "(10000, 10000)"
      ]
     },
     "execution_count": 107,
     "metadata": {},
     "output_type": "execute_result"
    }
   ],
   "source": [
    "cosine_tags.shape"
   ]
  },
  {
   "cell_type": "code",
   "execution_count": 108,
   "metadata": {},
   "outputs": [
    {
     "data": {
      "text/plain": [
       "array([[1.        , 0.68192026, 0.91036408, ..., 0.1007038 , 0.05800547,\n",
       "        0.0611492 ],\n",
       "       [0.68192026, 1.        , 0.63115993, ..., 0.09496954, 0.04120744,\n",
       "        0.05587359],\n",
       "       [0.91036408, 0.63115993, 1.        , ..., 0.09211697, 0.05323224,\n",
       "        0.06010517],\n",
       "       ...,\n",
       "       [0.1007038 , 0.09496954, 0.09211697, ..., 1.        , 0.19470526,\n",
       "        0.11254203],\n",
       "       [0.05800547, 0.04120744, 0.05323224, ..., 0.19470526, 1.        ,\n",
       "        0.21665975],\n",
       "       [0.0611492 , 0.05587359, 0.06010517, ..., 0.11254203, 0.21665975,\n",
       "        1.        ]])"
      ]
     },
     "execution_count": 108,
     "metadata": {},
     "output_type": "execute_result"
    }
   ],
   "source": [
    "cosine_tags"
   ]
  },
  {
   "cell_type": "code",
   "execution_count": 109,
   "metadata": {},
   "outputs": [],
   "source": [
    "# now we need to sort by similarity\n",
    "def reccommend_books(ref_book):\n",
    "    idx = indices[ref_book]\n",
    "    sim_scores = list(enumerate(cosine_tags[idx]))\n",
    "    sim_scores = sorted(sim_scores, key=lambda x: x[1], reverse=True)\n",
    "    # select top 20\n",
    "    sim_scores = sim_scores[1:21]\n",
    "    book_indices = [i[0] for i in sim_scores]\n",
    "    return titles.iloc[book_indices].index"
   ]
  },
  {
   "cell_type": "code",
   "execution_count": 133,
   "metadata": {},
   "outputs": [],
   "source": [
    "ref_title = 'The Hobbit'\n",
    "titles_index = reccommend_books(ref_title)"
   ]
  },
  {
   "cell_type": "code",
   "execution_count": null,
   "metadata": {},
   "outputs": [],
   "source": []
  },
  {
   "cell_type": "code",
   "execution_count": 111,
   "metadata": {},
   "outputs": [],
   "source": [
    "books_all_info = book_tags_merged.merge(books, left_on='goodreads_book_id', right_on= 'book_id', how='inner')\n"
   ]
  },
  {
   "cell_type": "code",
   "execution_count": 112,
   "metadata": {},
   "outputs": [
    {
     "data": {
      "text/html": [
       "<div>\n",
       "<style scoped>\n",
       "    .dataframe tbody tr th:only-of-type {\n",
       "        vertical-align: middle;\n",
       "    }\n",
       "\n",
       "    .dataframe tbody tr th {\n",
       "        vertical-align: top;\n",
       "    }\n",
       "\n",
       "    .dataframe thead th {\n",
       "        text-align: right;\n",
       "    }\n",
       "</style>\n",
       "<table border=\"1\" class=\"dataframe\">\n",
       "  <thead>\n",
       "    <tr style=\"text-align: right;\">\n",
       "      <th></th>\n",
       "      <th>goodreads_book_id</th>\n",
       "      <th>tag_id</th>\n",
       "      <th>count</th>\n",
       "      <th>tag_name</th>\n",
       "      <th>id</th>\n",
       "      <th>book_id</th>\n",
       "      <th>best_book_id</th>\n",
       "      <th>work_id</th>\n",
       "      <th>books_count</th>\n",
       "      <th>isbn</th>\n",
       "      <th>...</th>\n",
       "      <th>ratings_count</th>\n",
       "      <th>work_ratings_count</th>\n",
       "      <th>work_text_reviews_count</th>\n",
       "      <th>ratings_1</th>\n",
       "      <th>ratings_2</th>\n",
       "      <th>ratings_3</th>\n",
       "      <th>ratings_4</th>\n",
       "      <th>ratings_5</th>\n",
       "      <th>image_url</th>\n",
       "      <th>small_image_url</th>\n",
       "    </tr>\n",
       "  </thead>\n",
       "  <tbody>\n",
       "    <tr>\n",
       "      <td>0</td>\n",
       "      <td>1</td>\n",
       "      <td>30574</td>\n",
       "      <td>167697</td>\n",
       "      <td>to-read</td>\n",
       "      <td>27</td>\n",
       "      <td>1</td>\n",
       "      <td>1</td>\n",
       "      <td>41335427</td>\n",
       "      <td>275</td>\n",
       "      <td>439785960</td>\n",
       "      <td>...</td>\n",
       "      <td>1678823</td>\n",
       "      <td>1785676</td>\n",
       "      <td>27520</td>\n",
       "      <td>7308</td>\n",
       "      <td>21516</td>\n",
       "      <td>136333</td>\n",
       "      <td>459028</td>\n",
       "      <td>1161491</td>\n",
       "      <td>https://images.gr-assets.com/books/1361039191m...</td>\n",
       "      <td>https://images.gr-assets.com/books/1361039191s...</td>\n",
       "    </tr>\n",
       "    <tr>\n",
       "      <td>1</td>\n",
       "      <td>1</td>\n",
       "      <td>11305</td>\n",
       "      <td>37174</td>\n",
       "      <td>fantasy</td>\n",
       "      <td>27</td>\n",
       "      <td>1</td>\n",
       "      <td>1</td>\n",
       "      <td>41335427</td>\n",
       "      <td>275</td>\n",
       "      <td>439785960</td>\n",
       "      <td>...</td>\n",
       "      <td>1678823</td>\n",
       "      <td>1785676</td>\n",
       "      <td>27520</td>\n",
       "      <td>7308</td>\n",
       "      <td>21516</td>\n",
       "      <td>136333</td>\n",
       "      <td>459028</td>\n",
       "      <td>1161491</td>\n",
       "      <td>https://images.gr-assets.com/books/1361039191m...</td>\n",
       "      <td>https://images.gr-assets.com/books/1361039191s...</td>\n",
       "    </tr>\n",
       "    <tr>\n",
       "      <td>2</td>\n",
       "      <td>1</td>\n",
       "      <td>11557</td>\n",
       "      <td>34173</td>\n",
       "      <td>favorites</td>\n",
       "      <td>27</td>\n",
       "      <td>1</td>\n",
       "      <td>1</td>\n",
       "      <td>41335427</td>\n",
       "      <td>275</td>\n",
       "      <td>439785960</td>\n",
       "      <td>...</td>\n",
       "      <td>1678823</td>\n",
       "      <td>1785676</td>\n",
       "      <td>27520</td>\n",
       "      <td>7308</td>\n",
       "      <td>21516</td>\n",
       "      <td>136333</td>\n",
       "      <td>459028</td>\n",
       "      <td>1161491</td>\n",
       "      <td>https://images.gr-assets.com/books/1361039191m...</td>\n",
       "      <td>https://images.gr-assets.com/books/1361039191s...</td>\n",
       "    </tr>\n",
       "    <tr>\n",
       "      <td>3</td>\n",
       "      <td>1</td>\n",
       "      <td>8717</td>\n",
       "      <td>12986</td>\n",
       "      <td>currently-reading</td>\n",
       "      <td>27</td>\n",
       "      <td>1</td>\n",
       "      <td>1</td>\n",
       "      <td>41335427</td>\n",
       "      <td>275</td>\n",
       "      <td>439785960</td>\n",
       "      <td>...</td>\n",
       "      <td>1678823</td>\n",
       "      <td>1785676</td>\n",
       "      <td>27520</td>\n",
       "      <td>7308</td>\n",
       "      <td>21516</td>\n",
       "      <td>136333</td>\n",
       "      <td>459028</td>\n",
       "      <td>1161491</td>\n",
       "      <td>https://images.gr-assets.com/books/1361039191m...</td>\n",
       "      <td>https://images.gr-assets.com/books/1361039191s...</td>\n",
       "    </tr>\n",
       "    <tr>\n",
       "      <td>4</td>\n",
       "      <td>1</td>\n",
       "      <td>33114</td>\n",
       "      <td>12716</td>\n",
       "      <td>young-adult</td>\n",
       "      <td>27</td>\n",
       "      <td>1</td>\n",
       "      <td>1</td>\n",
       "      <td>41335427</td>\n",
       "      <td>275</td>\n",
       "      <td>439785960</td>\n",
       "      <td>...</td>\n",
       "      <td>1678823</td>\n",
       "      <td>1785676</td>\n",
       "      <td>27520</td>\n",
       "      <td>7308</td>\n",
       "      <td>21516</td>\n",
       "      <td>136333</td>\n",
       "      <td>459028</td>\n",
       "      <td>1161491</td>\n",
       "      <td>https://images.gr-assets.com/books/1361039191m...</td>\n",
       "      <td>https://images.gr-assets.com/books/1361039191s...</td>\n",
       "    </tr>\n",
       "  </tbody>\n",
       "</table>\n",
       "<p>5 rows × 27 columns</p>\n",
       "</div>"
      ],
      "text/plain": [
       "   goodreads_book_id  tag_id   count           tag_name  id  book_id  \\\n",
       "0                  1   30574  167697            to-read  27        1   \n",
       "1                  1   11305   37174            fantasy  27        1   \n",
       "2                  1   11557   34173          favorites  27        1   \n",
       "3                  1    8717   12986  currently-reading  27        1   \n",
       "4                  1   33114   12716        young-adult  27        1   \n",
       "\n",
       "   best_book_id   work_id  books_count       isbn  ...  ratings_count  \\\n",
       "0             1  41335427          275  439785960  ...        1678823   \n",
       "1             1  41335427          275  439785960  ...        1678823   \n",
       "2             1  41335427          275  439785960  ...        1678823   \n",
       "3             1  41335427          275  439785960  ...        1678823   \n",
       "4             1  41335427          275  439785960  ...        1678823   \n",
       "\n",
       "  work_ratings_count  work_text_reviews_count ratings_1 ratings_2 ratings_3  \\\n",
       "0            1785676                    27520      7308     21516    136333   \n",
       "1            1785676                    27520      7308     21516    136333   \n",
       "2            1785676                    27520      7308     21516    136333   \n",
       "3            1785676                    27520      7308     21516    136333   \n",
       "4            1785676                    27520      7308     21516    136333   \n",
       "\n",
       "   ratings_4  ratings_5                                          image_url  \\\n",
       "0     459028    1161491  https://images.gr-assets.com/books/1361039191m...   \n",
       "1     459028    1161491  https://images.gr-assets.com/books/1361039191m...   \n",
       "2     459028    1161491  https://images.gr-assets.com/books/1361039191m...   \n",
       "3     459028    1161491  https://images.gr-assets.com/books/1361039191m...   \n",
       "4     459028    1161491  https://images.gr-assets.com/books/1361039191m...   \n",
       "\n",
       "                                     small_image_url  \n",
       "0  https://images.gr-assets.com/books/1361039191s...  \n",
       "1  https://images.gr-assets.com/books/1361039191s...  \n",
       "2  https://images.gr-assets.com/books/1361039191s...  \n",
       "3  https://images.gr-assets.com/books/1361039191s...  \n",
       "4  https://images.gr-assets.com/books/1361039191s...  \n",
       "\n",
       "[5 rows x 27 columns]"
      ]
     },
     "execution_count": 112,
     "metadata": {},
     "output_type": "execute_result"
    }
   ],
   "source": [
    "books_all_info.head()"
   ]
  },
  {
   "cell_type": "code",
   "execution_count": 123,
   "metadata": {},
   "outputs": [
    {
     "data": {
      "text/html": [
       "<div>\n",
       "<style scoped>\n",
       "    .dataframe tbody tr th:only-of-type {\n",
       "        vertical-align: middle;\n",
       "    }\n",
       "\n",
       "    .dataframe tbody tr th {\n",
       "        vertical-align: top;\n",
       "    }\n",
       "\n",
       "    .dataframe thead th {\n",
       "        text-align: right;\n",
       "    }\n",
       "</style>\n",
       "<table border=\"1\" class=\"dataframe\">\n",
       "  <thead>\n",
       "    <tr style=\"text-align: right;\">\n",
       "      <th></th>\n",
       "      <th>title</th>\n",
       "      <th>authors</th>\n",
       "    </tr>\n",
       "  </thead>\n",
       "  <tbody>\n",
       "    <tr>\n",
       "      <td>1276</td>\n",
       "      <td>The Case for Christ</td>\n",
       "      <td>Lee Strobel</td>\n",
       "    </tr>\n",
       "    <tr>\n",
       "      <td>0</td>\n",
       "      <td>The Hunger Games (The Hunger Games, #1)</td>\n",
       "      <td>Suzanne Collins</td>\n",
       "    </tr>\n",
       "    <tr>\n",
       "      <td>2</td>\n",
       "      <td>Twilight (Twilight, #1)</td>\n",
       "      <td>Stephenie Meyer</td>\n",
       "    </tr>\n",
       "    <tr>\n",
       "      <td>3</td>\n",
       "      <td>To Kill a Mockingbird</td>\n",
       "      <td>Harper Lee</td>\n",
       "    </tr>\n",
       "    <tr>\n",
       "      <td>4</td>\n",
       "      <td>The Great Gatsby</td>\n",
       "      <td>F. Scott Fitzgerald</td>\n",
       "    </tr>\n",
       "    <tr>\n",
       "      <td>3890</td>\n",
       "      <td>Shoe Addicts Anonymous (Shoe Addict, #1)</td>\n",
       "      <td>Beth Harbison</td>\n",
       "    </tr>\n",
       "    <tr>\n",
       "      <td>1</td>\n",
       "      <td>Harry Potter and the Sorcerer's Stone (Harry P...</td>\n",
       "      <td>J.K. Rowling, Mary GrandPré</td>\n",
       "    </tr>\n",
       "    <tr>\n",
       "      <td>5</td>\n",
       "      <td>The Fault in Our Stars</td>\n",
       "      <td>John Green</td>\n",
       "    </tr>\n",
       "    <tr>\n",
       "      <td>5686</td>\n",
       "      <td>The Readers of Broken Wheel Recommend</td>\n",
       "      <td>Katarina Bivald, Alice Menzies</td>\n",
       "    </tr>\n",
       "    <tr>\n",
       "      <td>159</td>\n",
       "      <td>Great Expectations</td>\n",
       "      <td>Charles Dickens</td>\n",
       "    </tr>\n",
       "    <tr>\n",
       "      <td>3650</td>\n",
       "      <td>Nana, Vol. 1 (Nana, #1)</td>\n",
       "      <td>Ai Yazawa</td>\n",
       "    </tr>\n",
       "    <tr>\n",
       "      <td>5891</td>\n",
       "      <td>Deep Kiss of Winter (Includes: Immortals After...</td>\n",
       "      <td>Kresley Cole, Gena Showalter</td>\n",
       "    </tr>\n",
       "    <tr>\n",
       "      <td>6376</td>\n",
       "      <td>The Confessor (Gabriel Allon, #3)</td>\n",
       "      <td>Daniel Silva</td>\n",
       "    </tr>\n",
       "    <tr>\n",
       "      <td>2341</td>\n",
       "      <td>Beyond Good and Evil</td>\n",
       "      <td>Friedrich Nietzsche, R.J. Hollingdale, Michael...</td>\n",
       "    </tr>\n",
       "    <tr>\n",
       "      <td>3488</td>\n",
       "      <td>Doomsday Book (Oxford Time Travel, #1)</td>\n",
       "      <td>Connie Willis</td>\n",
       "    </tr>\n",
       "    <tr>\n",
       "      <td>5165</td>\n",
       "      <td>Scarpetta (Kay Scarpetta, #16)</td>\n",
       "      <td>Patricia Cornwell</td>\n",
       "    </tr>\n",
       "    <tr>\n",
       "      <td>3739</td>\n",
       "      <td>Panda Bear, Panda Bear, What Do You See?</td>\n",
       "      <td>Bill Martin Jr., Eric Carle</td>\n",
       "    </tr>\n",
       "    <tr>\n",
       "      <td>1425</td>\n",
       "      <td>Keeping Faith</td>\n",
       "      <td>Jodi Picoult</td>\n",
       "    </tr>\n",
       "    <tr>\n",
       "      <td>9952</td>\n",
       "      <td>Marked in Flesh (The Others, #4)</td>\n",
       "      <td>Anne Bishop</td>\n",
       "    </tr>\n",
       "    <tr>\n",
       "      <td>3738</td>\n",
       "      <td>Many Waters (A Wrinkle in Time Quintet, #4)</td>\n",
       "      <td>Madeleine L'Engle</td>\n",
       "    </tr>\n",
       "  </tbody>\n",
       "</table>\n",
       "</div>"
      ],
      "text/plain": [
       "                                                  title  \\\n",
       "1276                                The Case for Christ   \n",
       "0               The Hunger Games (The Hunger Games, #1)   \n",
       "2                               Twilight (Twilight, #1)   \n",
       "3                                 To Kill a Mockingbird   \n",
       "4                                      The Great Gatsby   \n",
       "3890           Shoe Addicts Anonymous (Shoe Addict, #1)   \n",
       "1     Harry Potter and the Sorcerer's Stone (Harry P...   \n",
       "5                                The Fault in Our Stars   \n",
       "5686              The Readers of Broken Wheel Recommend   \n",
       "159                                  Great Expectations   \n",
       "3650                            Nana, Vol. 1 (Nana, #1)   \n",
       "5891  Deep Kiss of Winter (Includes: Immortals After...   \n",
       "6376                  The Confessor (Gabriel Allon, #3)   \n",
       "2341                               Beyond Good and Evil   \n",
       "3488             Doomsday Book (Oxford Time Travel, #1)   \n",
       "5165                     Scarpetta (Kay Scarpetta, #16)   \n",
       "3739           Panda Bear, Panda Bear, What Do You See?   \n",
       "1425                                      Keeping Faith   \n",
       "9952                   Marked in Flesh (The Others, #4)   \n",
       "3738        Many Waters (A Wrinkle in Time Quintet, #4)   \n",
       "\n",
       "                                                authors  \n",
       "1276                                        Lee Strobel  \n",
       "0                                       Suzanne Collins  \n",
       "2                                       Stephenie Meyer  \n",
       "3                                            Harper Lee  \n",
       "4                                   F. Scott Fitzgerald  \n",
       "3890                                      Beth Harbison  \n",
       "1                           J.K. Rowling, Mary GrandPré  \n",
       "5                                            John Green  \n",
       "5686                     Katarina Bivald, Alice Menzies  \n",
       "159                                     Charles Dickens  \n",
       "3650                                          Ai Yazawa  \n",
       "5891                       Kresley Cole, Gena Showalter  \n",
       "6376                                       Daniel Silva  \n",
       "2341  Friedrich Nietzsche, R.J. Hollingdale, Michael...  \n",
       "3488                                      Connie Willis  \n",
       "5165                                  Patricia Cornwell  \n",
       "3739                        Bill Martin Jr., Eric Carle  \n",
       "1425                                       Jodi Picoult  \n",
       "9952                                        Anne Bishop  \n",
       "3738                                  Madeleine L'Engle  "
      ]
     },
     "execution_count": 123,
     "metadata": {},
     "output_type": "execute_result"
    }
   ],
   "source": [
    "books.loc[titles_index , ['title', 'authors']]"
   ]
  },
  {
   "cell_type": "code",
   "execution_count": 114,
   "metadata": {},
   "outputs": [
    {
     "data": {
      "text/plain": [
       "20"
      ]
     },
     "execution_count": 114,
     "metadata": {},
     "output_type": "execute_result"
    }
   ],
   "source": [
    "len(titles_index)"
   ]
  },
  {
   "cell_type": "code",
   "execution_count": 120,
   "metadata": {},
   "outputs": [
    {
     "data": {
      "text/html": [
       "<div>\n",
       "<style scoped>\n",
       "    .dataframe tbody tr th:only-of-type {\n",
       "        vertical-align: middle;\n",
       "    }\n",
       "\n",
       "    .dataframe tbody tr th {\n",
       "        vertical-align: top;\n",
       "    }\n",
       "\n",
       "    .dataframe thead th {\n",
       "        text-align: right;\n",
       "    }\n",
       "</style>\n",
       "<table border=\"1\" class=\"dataframe\">\n",
       "  <thead>\n",
       "    <tr style=\"text-align: right;\">\n",
       "      <th></th>\n",
       "      <th>goodreads_book_id</th>\n",
       "      <th>tag_name</th>\n",
       "    </tr>\n",
       "  </thead>\n",
       "  <tbody>\n",
       "    <tr>\n",
       "      <td>0</td>\n",
       "      <td>1</td>\n",
       "      <td>to-read fantasy favorites currently-reading yo...</td>\n",
       "    </tr>\n",
       "    <tr>\n",
       "      <td>1</td>\n",
       "      <td>2</td>\n",
       "      <td>to-read fantasy favorites currently-reading yo...</td>\n",
       "    </tr>\n",
       "    <tr>\n",
       "      <td>2</td>\n",
       "      <td>3</td>\n",
       "      <td>to-read fantasy favorites currently-reading yo...</td>\n",
       "    </tr>\n",
       "    <tr>\n",
       "      <td>3</td>\n",
       "      <td>5</td>\n",
       "      <td>to-read fantasy favorites currently-reading yo...</td>\n",
       "    </tr>\n",
       "    <tr>\n",
       "      <td>4</td>\n",
       "      <td>6</td>\n",
       "      <td>to-read fantasy young-adult fiction harry-pott...</td>\n",
       "    </tr>\n",
       "  </tbody>\n",
       "</table>\n",
       "</div>"
      ],
      "text/plain": [
       "   goodreads_book_id                                           tag_name\n",
       "0                  1  to-read fantasy favorites currently-reading yo...\n",
       "1                  2  to-read fantasy favorites currently-reading yo...\n",
       "2                  3  to-read fantasy favorites currently-reading yo...\n",
       "3                  5  to-read fantasy favorites currently-reading yo...\n",
       "4                  6  to-read fantasy young-adult fiction harry-pott..."
      ]
     },
     "execution_count": 120,
     "metadata": {},
     "output_type": "execute_result"
    }
   ],
   "source": [
    "tmp_df.head()"
   ]
  },
  {
   "cell_type": "code",
   "execution_count": 144,
   "metadata": {},
   "outputs": [],
   "source": [
    "books_full_tags = books.merge(tmp_df, left_on='book_id', right_on='goodreads_book_id')"
   ]
  },
  {
   "cell_type": "code",
   "execution_count": 149,
   "metadata": {},
   "outputs": [],
   "source": [
    "books_full_tags['tags_authors'] = books_full_tags['authors'] + ' ' + books_full_tags['tag_name']"
   ]
  },
  {
   "cell_type": "code",
   "execution_count": 151,
   "metadata": {},
   "outputs": [],
   "source": [
    "tfidf_matrix = tfidf.fit_transform(books_full_tags['tags_authors'])\n",
    "cosine_tags = linear_kernel(tfidf_matrix, tfidf_matrix)"
   ]
  },
  {
   "cell_type": "code",
   "execution_count": 155,
   "metadata": {},
   "outputs": [
    {
     "data": {
      "text/html": [
       "<div>\n",
       "<style scoped>\n",
       "    .dataframe tbody tr th:only-of-type {\n",
       "        vertical-align: middle;\n",
       "    }\n",
       "\n",
       "    .dataframe tbody tr th {\n",
       "        vertical-align: top;\n",
       "    }\n",
       "\n",
       "    .dataframe thead th {\n",
       "        text-align: right;\n",
       "    }\n",
       "</style>\n",
       "<table border=\"1\" class=\"dataframe\">\n",
       "  <thead>\n",
       "    <tr style=\"text-align: right;\">\n",
       "      <th></th>\n",
       "      <th>title</th>\n",
       "      <th>authors</th>\n",
       "    </tr>\n",
       "  </thead>\n",
       "  <tbody>\n",
       "    <tr>\n",
       "      <td>188</td>\n",
       "      <td>The Lord of the Rings (The Lord of the Rings, ...</td>\n",
       "      <td>J.R.R. Tolkien</td>\n",
       "    </tr>\n",
       "    <tr>\n",
       "      <td>154</td>\n",
       "      <td>The Two Towers (The Lord of the Rings, #2)</td>\n",
       "      <td>J.R.R. Tolkien</td>\n",
       "    </tr>\n",
       "    <tr>\n",
       "      <td>160</td>\n",
       "      <td>The Return of the King (The Lord of the Rings,...</td>\n",
       "      <td>J.R.R. Tolkien</td>\n",
       "    </tr>\n",
       "    <tr>\n",
       "      <td>18</td>\n",
       "      <td>The Fellowship of the Ring (The Lord of the Ri...</td>\n",
       "      <td>J.R.R. Tolkien</td>\n",
       "    </tr>\n",
       "    <tr>\n",
       "      <td>610</td>\n",
       "      <td>The Silmarillion (Middle-Earth Universe)</td>\n",
       "      <td>J.R.R. Tolkien, Christopher Tolkien, Ted Nasmith</td>\n",
       "    </tr>\n",
       "    <tr>\n",
       "      <td>4975</td>\n",
       "      <td>Unfinished Tales of Númenor and Middle-Earth</td>\n",
       "      <td>J.R.R. Tolkien, Christopher Tolkien</td>\n",
       "    </tr>\n",
       "    <tr>\n",
       "      <td>2308</td>\n",
       "      <td>The Children of Húrin</td>\n",
       "      <td>J.R.R. Tolkien, Christopher Tolkien, Alan Lee</td>\n",
       "    </tr>\n",
       "    <tr>\n",
       "      <td>963</td>\n",
       "      <td>J.R.R. Tolkien 4-Book Boxed Set: The Hobbit an...</td>\n",
       "      <td>J.R.R. Tolkien</td>\n",
       "    </tr>\n",
       "    <tr>\n",
       "      <td>465</td>\n",
       "      <td>The Hobbit: Graphic Novel</td>\n",
       "      <td>Chuck Dixon, J.R.R. Tolkien, David Wenzel, Sea...</td>\n",
       "    </tr>\n",
       "    <tr>\n",
       "      <td>8271</td>\n",
       "      <td>The Complete Guide to Middle-Earth</td>\n",
       "      <td>Robert Foster, J.R.R. Tolkien</td>\n",
       "    </tr>\n",
       "    <tr>\n",
       "      <td>1366</td>\n",
       "      <td>The Once and Future King (The Once and Future ...</td>\n",
       "      <td>T.H. White</td>\n",
       "    </tr>\n",
       "    <tr>\n",
       "      <td>1321</td>\n",
       "      <td>The Last Unicorn (The Last Unicorn, #1)</td>\n",
       "      <td>Peter S. Beagle</td>\n",
       "    </tr>\n",
       "    <tr>\n",
       "      <td>53</td>\n",
       "      <td>The Hitchhiker's Guide to the Galaxy (Hitchhik...</td>\n",
       "      <td>Douglas Adams</td>\n",
       "    </tr>\n",
       "    <tr>\n",
       "      <td>367</td>\n",
       "      <td>The Subtle Knife (His Dark Materials, #2)</td>\n",
       "      <td>Philip Pullman</td>\n",
       "    </tr>\n",
       "    <tr>\n",
       "      <td>61</td>\n",
       "      <td>The Golden Compass (His Dark Materials, #1)</td>\n",
       "      <td>Philip Pullman</td>\n",
       "    </tr>\n",
       "    <tr>\n",
       "      <td>479</td>\n",
       "      <td>The Amber Spyglass (His Dark Materials, #3)</td>\n",
       "      <td>Philip Pullman</td>\n",
       "    </tr>\n",
       "    <tr>\n",
       "      <td>936</td>\n",
       "      <td>His Dark Materials (His Dark Materials #1-3)</td>\n",
       "      <td>Philip Pullman</td>\n",
       "    </tr>\n",
       "    <tr>\n",
       "      <td>331</td>\n",
       "      <td>The Magician's Nephew (Chronicles of Narnia, #6)</td>\n",
       "      <td>C.S. Lewis</td>\n",
       "    </tr>\n",
       "    <tr>\n",
       "      <td>592</td>\n",
       "      <td>A Wizard of Earthsea (Earthsea Cycle, #1)</td>\n",
       "      <td>Ursula K. Le Guin</td>\n",
       "    </tr>\n",
       "    <tr>\n",
       "      <td>36</td>\n",
       "      <td>The Lion, the Witch, and the Wardrobe (Chronic...</td>\n",
       "      <td>C.S. Lewis</td>\n",
       "    </tr>\n",
       "  </tbody>\n",
       "</table>\n",
       "</div>"
      ],
      "text/plain": [
       "                                                  title  \\\n",
       "188   The Lord of the Rings (The Lord of the Rings, ...   \n",
       "154          The Two Towers (The Lord of the Rings, #2)   \n",
       "160   The Return of the King (The Lord of the Rings,...   \n",
       "18    The Fellowship of the Ring (The Lord of the Ri...   \n",
       "610            The Silmarillion (Middle-Earth Universe)   \n",
       "4975       Unfinished Tales of Númenor and Middle-Earth   \n",
       "2308                              The Children of Húrin   \n",
       "963   J.R.R. Tolkien 4-Book Boxed Set: The Hobbit an...   \n",
       "465                           The Hobbit: Graphic Novel   \n",
       "8271                 The Complete Guide to Middle-Earth   \n",
       "1366  The Once and Future King (The Once and Future ...   \n",
       "1321            The Last Unicorn (The Last Unicorn, #1)   \n",
       "53    The Hitchhiker's Guide to the Galaxy (Hitchhik...   \n",
       "367           The Subtle Knife (His Dark Materials, #2)   \n",
       "61          The Golden Compass (His Dark Materials, #1)   \n",
       "479         The Amber Spyglass (His Dark Materials, #3)   \n",
       "936        His Dark Materials (His Dark Materials #1-3)   \n",
       "331    The Magician's Nephew (Chronicles of Narnia, #6)   \n",
       "592           A Wizard of Earthsea (Earthsea Cycle, #1)   \n",
       "36    The Lion, the Witch, and the Wardrobe (Chronic...   \n",
       "\n",
       "                                                authors  \n",
       "188                                      J.R.R. Tolkien  \n",
       "154                                      J.R.R. Tolkien  \n",
       "160                                      J.R.R. Tolkien  \n",
       "18                                       J.R.R. Tolkien  \n",
       "610    J.R.R. Tolkien, Christopher Tolkien, Ted Nasmith  \n",
       "4975                J.R.R. Tolkien, Christopher Tolkien  \n",
       "2308      J.R.R. Tolkien, Christopher Tolkien, Alan Lee  \n",
       "963                                      J.R.R. Tolkien  \n",
       "465   Chuck Dixon, J.R.R. Tolkien, David Wenzel, Sea...  \n",
       "8271                      Robert Foster, J.R.R. Tolkien  \n",
       "1366                                         T.H. White  \n",
       "1321                                    Peter S. Beagle  \n",
       "53                                        Douglas Adams  \n",
       "367                                      Philip Pullman  \n",
       "61                                       Philip Pullman  \n",
       "479                                      Philip Pullman  \n",
       "936                                      Philip Pullman  \n",
       "331                                          C.S. Lewis  \n",
       "592                                   Ursula K. Le Guin  \n",
       "36                                           C.S. Lewis  "
      ]
     },
     "execution_count": 155,
     "metadata": {},
     "output_type": "execute_result"
    }
   ],
   "source": [
    "ref_title = 'The Hobbit'\n",
    "titles_index = reccommend_books(ref_title)\n",
    "books.loc[titles_index , ['title', 'authors']]"
   ]
  },
  {
   "cell_type": "code",
   "execution_count": null,
   "metadata": {},
   "outputs": [],
   "source": []
  },
  {
   "cell_type": "code",
   "execution_count": 157,
   "metadata": {},
   "outputs": [],
   "source": [
    "# As can be seen the features created using the tags and the authors deliver resuts that seem much more consistent."
   ]
  },
  {
   "cell_type": "code",
   "execution_count": 156,
   "metadata": {},
   "outputs": [
    {
     "data": {
      "text/html": [
       "<div>\n",
       "<style scoped>\n",
       "    .dataframe tbody tr th:only-of-type {\n",
       "        vertical-align: middle;\n",
       "    }\n",
       "\n",
       "    .dataframe tbody tr th {\n",
       "        vertical-align: top;\n",
       "    }\n",
       "\n",
       "    .dataframe thead th {\n",
       "        text-align: right;\n",
       "    }\n",
       "</style>\n",
       "<table border=\"1\" class=\"dataframe\">\n",
       "  <thead>\n",
       "    <tr style=\"text-align: right;\">\n",
       "      <th></th>\n",
       "      <th>title</th>\n",
       "      <th>authors</th>\n",
       "    </tr>\n",
       "  </thead>\n",
       "  <tbody>\n",
       "    <tr>\n",
       "      <td>854</td>\n",
       "      <td>Twelfth Night</td>\n",
       "      <td>William Shakespeare</td>\n",
       "    </tr>\n",
       "    <tr>\n",
       "      <td>772</td>\n",
       "      <td>The Taming of the Shrew</td>\n",
       "      <td>William Shakespeare</td>\n",
       "    </tr>\n",
       "    <tr>\n",
       "      <td>1884</td>\n",
       "      <td>As You Like It</td>\n",
       "      <td>William Shakespeare</td>\n",
       "    </tr>\n",
       "    <tr>\n",
       "      <td>529</td>\n",
       "      <td>Much Ado About Nothing</td>\n",
       "      <td>William Shakespeare, Barbara A. Mowat, Paul We...</td>\n",
       "    </tr>\n",
       "    <tr>\n",
       "      <td>838</td>\n",
       "      <td>The Merchant of Venice</td>\n",
       "      <td>William Shakespeare, Robert          Jackson, ...</td>\n",
       "    </tr>\n",
       "    <tr>\n",
       "      <td>352</td>\n",
       "      <td>Othello</td>\n",
       "      <td>William Shakespeare</td>\n",
       "    </tr>\n",
       "    <tr>\n",
       "      <td>7352</td>\n",
       "      <td>Measure for Measure</td>\n",
       "      <td>William Shakespeare, Barbara A. Mowat, Paul We...</td>\n",
       "    </tr>\n",
       "    <tr>\n",
       "      <td>247</td>\n",
       "      <td>A Midsummer Night's Dream</td>\n",
       "      <td>William Shakespeare, Barbara A. Mowat, Paul We...</td>\n",
       "    </tr>\n",
       "    <tr>\n",
       "      <td>769</td>\n",
       "      <td>Julius Caesar</td>\n",
       "      <td>William Shakespeare, Roma Gill</td>\n",
       "    </tr>\n",
       "    <tr>\n",
       "      <td>153</td>\n",
       "      <td>Macbeth</td>\n",
       "      <td>William Shakespeare</td>\n",
       "    </tr>\n",
       "    <tr>\n",
       "      <td>124</td>\n",
       "      <td>Hamlet</td>\n",
       "      <td>William Shakespeare, Richard Andrews, Rex Gibson</td>\n",
       "    </tr>\n",
       "    <tr>\n",
       "      <td>6529</td>\n",
       "      <td>Titus Andronicus</td>\n",
       "      <td>William Shakespeare</td>\n",
       "    </tr>\n",
       "    <tr>\n",
       "      <td>554</td>\n",
       "      <td>Hamlet: Screenplay, Introduction And Film Diary</td>\n",
       "      <td>Kenneth Branagh, William Shakespeare</td>\n",
       "    </tr>\n",
       "    <tr>\n",
       "      <td>5539</td>\n",
       "      <td>Antony and Cleopatra</td>\n",
       "      <td>William Shakespeare, Cynthia Marshall, Barbara...</td>\n",
       "    </tr>\n",
       "    <tr>\n",
       "      <td>28</td>\n",
       "      <td>Romeo and Juliet</td>\n",
       "      <td>William Shakespeare, Robert           Jackson</td>\n",
       "    </tr>\n",
       "    <tr>\n",
       "      <td>8895</td>\n",
       "      <td>Richard II</td>\n",
       "      <td>William Shakespeare, Roma Gill, Robert        ...</td>\n",
       "    </tr>\n",
       "    <tr>\n",
       "      <td>2543</td>\n",
       "      <td>Dr. Faustus</td>\n",
       "      <td>Christopher Marlowe</td>\n",
       "    </tr>\n",
       "    <tr>\n",
       "      <td>6416</td>\n",
       "      <td>The Winter's Tale</td>\n",
       "      <td>William Shakespeare</td>\n",
       "    </tr>\n",
       "    <tr>\n",
       "      <td>6534</td>\n",
       "      <td>Equus</td>\n",
       "      <td>Peter Shaffer</td>\n",
       "    </tr>\n",
       "    <tr>\n",
       "      <td>2102</td>\n",
       "      <td>The Importance of Being Earnest and Other Plays</td>\n",
       "      <td>Oscar Wilde, Richard Allen Cave</td>\n",
       "    </tr>\n",
       "  </tbody>\n",
       "</table>\n",
       "</div>"
      ],
      "text/plain": [
       "                                                title  \\\n",
       "854                                     Twelfth Night   \n",
       "772                           The Taming of the Shrew   \n",
       "1884                                   As You Like It   \n",
       "529                            Much Ado About Nothing   \n",
       "838                            The Merchant of Venice   \n",
       "352                                           Othello   \n",
       "7352                              Measure for Measure   \n",
       "247                         A Midsummer Night's Dream   \n",
       "769                                     Julius Caesar   \n",
       "153                                           Macbeth   \n",
       "124                                            Hamlet   \n",
       "6529                                 Titus Andronicus   \n",
       "554   Hamlet: Screenplay, Introduction And Film Diary   \n",
       "5539                             Antony and Cleopatra   \n",
       "28                                   Romeo and Juliet   \n",
       "8895                                       Richard II   \n",
       "2543                                      Dr. Faustus   \n",
       "6416                                The Winter's Tale   \n",
       "6534                                            Equus   \n",
       "2102  The Importance of Being Earnest and Other Plays   \n",
       "\n",
       "                                                authors  \n",
       "854                                 William Shakespeare  \n",
       "772                                 William Shakespeare  \n",
       "1884                                William Shakespeare  \n",
       "529   William Shakespeare, Barbara A. Mowat, Paul We...  \n",
       "838   William Shakespeare, Robert          Jackson, ...  \n",
       "352                                 William Shakespeare  \n",
       "7352  William Shakespeare, Barbara A. Mowat, Paul We...  \n",
       "247   William Shakespeare, Barbara A. Mowat, Paul We...  \n",
       "769                      William Shakespeare, Roma Gill  \n",
       "153                                 William Shakespeare  \n",
       "124    William Shakespeare, Richard Andrews, Rex Gibson  \n",
       "6529                                William Shakespeare  \n",
       "554                Kenneth Branagh, William Shakespeare  \n",
       "5539  William Shakespeare, Cynthia Marshall, Barbara...  \n",
       "28        William Shakespeare, Robert           Jackson  \n",
       "8895  William Shakespeare, Roma Gill, Robert        ...  \n",
       "2543                                Christopher Marlowe  \n",
       "6416                                William Shakespeare  \n",
       "6534                                      Peter Shaffer  \n",
       "2102                    Oscar Wilde, Richard Allen Cave  "
      ]
     },
     "execution_count": 156,
     "metadata": {},
     "output_type": "execute_result"
    }
   ],
   "source": [
    "ref_title = 'King Lear'\n",
    "titles_index = reccommend_books(ref_title)\n",
    "books.loc[titles_index , ['title', 'authors']]"
   ]
  },
  {
   "cell_type": "markdown",
   "metadata": {},
   "source": [
    "Further studies on this topic would require the usage of ohter features. Or other models. But the idea is still the same cluster the books by similarity. \n",
    "Can be used metrics like:\n",
    " - euclidean distance\n",
    " - pearson correlation\n",
    " "
   ]
  },
  {
   "cell_type": "markdown",
   "metadata": {},
   "source": [
    "## Collaborative filtering implementation"
   ]
  },
  {
   "cell_type": "code",
   "execution_count": null,
   "metadata": {},
   "outputs": [],
   "source": []
  }
 ],
 "metadata": {
  "kernelspec": {
   "display_name": ".venv",
   "language": "python",
   "name": ".venv"
  },
  "language_info": {
   "codemirror_mode": {
    "name": "ipython",
    "version": 3
   },
   "file_extension": ".py",
   "mimetype": "text/x-python",
   "name": "python",
   "nbconvert_exporter": "python",
   "pygments_lexer": "ipython3",
   "version": "3.7.4"
  }
 },
 "nbformat": 4,
 "nbformat_minor": 4
}
